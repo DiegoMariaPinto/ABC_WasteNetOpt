{
 "cells": [
  {
   "cell_type": "code",
   "execution_count": 24,
   "metadata": {
    "pycharm": {
     "name": "#%%\n"
    }
   },
   "outputs": [],
   "source": [
    "import pandas as pd"
   ]
  },
  {
   "cell_type": "markdown",
   "metadata": {
    "pycharm": {
     "name": "#%% md\n"
    }
   },
   "source": [
    "## Servizi\n",
    "#### L'obiettivo di questa sezione è partire dal file che ci ha inviato AMA e ottenere il foglio \"servizi\" uguale a quello che avevamo ipotizzato in fake_data"
   ]
  },
  {
   "cell_type": "code",
   "execution_count": 25,
   "outputs": [],
   "source": [
    "df_services = pd.read_excel('Data/R12_Anagrafica_Servizi_Settimanale_PIPER.xlsx',sheet_name='Anagrafica Servizi Settimanale', skiprows=2)\n",
    "df_barycentre = pd.read_excel('Data/R12_Anagrafica_Servizi_Settimanale_PIPER.xlsx',sheet_name='BARICENTRO',index_col=0, skiprows=0)\n",
    "df_facilities = pd.read_excel('Data/R12_Anagrafica_Servizi_Settimanale_PIPER.xlsx',sheet_name='Impianti', skiprows=1)"
   ],
   "metadata": {
    "collapsed": false,
    "pycharm": {
     "name": "#%%\n"
    }
   }
  },
  {
   "cell_type": "code",
   "execution_count": 26,
   "outputs": [
    {
     "data": {
      "text/plain": "     LUN  MAR  MER  GIO  VEN  SAB  DOM\n0      P    P    P    P    P    P  NaN\n1      P    P    P    P    P    P  NaN\n2    NaN  NaN  NaN  NaN  NaN  NaN    M\n3      N    N    N    N    N    N    N\n4      P    P    P    P    P    P  NaN\n..   ...  ...  ...  ...  ...  ...  ...\n815  NaN  NaN    N  NaN  NaN  NaN  NaN\n816  NaN    N  NaN  NaN    N  NaN  NaN\n817    P  NaN  NaN    P  NaN  NaN  NaN\n818    P  NaN  NaN    P  NaN  NaN  NaN\n819  NaN    P  NaN  NaN    P  NaN  NaN\n\n[820 rows x 7 columns]",
      "text/html": "<div>\n<style scoped>\n    .dataframe tbody tr th:only-of-type {\n        vertical-align: middle;\n    }\n\n    .dataframe tbody tr th {\n        vertical-align: top;\n    }\n\n    .dataframe thead th {\n        text-align: right;\n    }\n</style>\n<table border=\"1\" class=\"dataframe\">\n  <thead>\n    <tr style=\"text-align: right;\">\n      <th></th>\n      <th>LUN</th>\n      <th>MAR</th>\n      <th>MER</th>\n      <th>GIO</th>\n      <th>VEN</th>\n      <th>SAB</th>\n      <th>DOM</th>\n    </tr>\n  </thead>\n  <tbody>\n    <tr>\n      <th>0</th>\n      <td>P</td>\n      <td>P</td>\n      <td>P</td>\n      <td>P</td>\n      <td>P</td>\n      <td>P</td>\n      <td>NaN</td>\n    </tr>\n    <tr>\n      <th>1</th>\n      <td>P</td>\n      <td>P</td>\n      <td>P</td>\n      <td>P</td>\n      <td>P</td>\n      <td>P</td>\n      <td>NaN</td>\n    </tr>\n    <tr>\n      <th>2</th>\n      <td>NaN</td>\n      <td>NaN</td>\n      <td>NaN</td>\n      <td>NaN</td>\n      <td>NaN</td>\n      <td>NaN</td>\n      <td>M</td>\n    </tr>\n    <tr>\n      <th>3</th>\n      <td>N</td>\n      <td>N</td>\n      <td>N</td>\n      <td>N</td>\n      <td>N</td>\n      <td>N</td>\n      <td>N</td>\n    </tr>\n    <tr>\n      <th>4</th>\n      <td>P</td>\n      <td>P</td>\n      <td>P</td>\n      <td>P</td>\n      <td>P</td>\n      <td>P</td>\n      <td>NaN</td>\n    </tr>\n    <tr>\n      <th>...</th>\n      <td>...</td>\n      <td>...</td>\n      <td>...</td>\n      <td>...</td>\n      <td>...</td>\n      <td>...</td>\n      <td>...</td>\n    </tr>\n    <tr>\n      <th>815</th>\n      <td>NaN</td>\n      <td>NaN</td>\n      <td>N</td>\n      <td>NaN</td>\n      <td>NaN</td>\n      <td>NaN</td>\n      <td>NaN</td>\n    </tr>\n    <tr>\n      <th>816</th>\n      <td>NaN</td>\n      <td>N</td>\n      <td>NaN</td>\n      <td>NaN</td>\n      <td>N</td>\n      <td>NaN</td>\n      <td>NaN</td>\n    </tr>\n    <tr>\n      <th>817</th>\n      <td>P</td>\n      <td>NaN</td>\n      <td>NaN</td>\n      <td>P</td>\n      <td>NaN</td>\n      <td>NaN</td>\n      <td>NaN</td>\n    </tr>\n    <tr>\n      <th>818</th>\n      <td>P</td>\n      <td>NaN</td>\n      <td>NaN</td>\n      <td>P</td>\n      <td>NaN</td>\n      <td>NaN</td>\n      <td>NaN</td>\n    </tr>\n    <tr>\n      <th>819</th>\n      <td>NaN</td>\n      <td>P</td>\n      <td>NaN</td>\n      <td>NaN</td>\n      <td>P</td>\n      <td>NaN</td>\n      <td>NaN</td>\n    </tr>\n  </tbody>\n</table>\n<p>820 rows × 7 columns</p>\n</div>"
     },
     "execution_count": 26,
     "metadata": {},
     "output_type": "execute_result"
    }
   ],
   "source": [
    "days = [\"LUN\", \"MAR\", \"MER\", \"GIO\", \"VEN\", \"SAB\", \"DOM\"]\n",
    "df_services[days]"
   ],
   "metadata": {
    "collapsed": false,
    "pycharm": {
     "name": "#%%\n"
    }
   }
  },
  {
   "cell_type": "code",
   "execution_count": 27,
   "outputs": [
    {
     "name": "stdout",
     "output_type": "stream",
     "text": [
      "shape:  (820, 80)\n"
     ]
    }
   ],
   "source": [
    "print(\"shape: \", df_services.shape)\n",
    "#df_servizi.head()"
   ],
   "metadata": {
    "collapsed": false,
    "pycharm": {
     "name": "#%%\n"
    }
   }
  },
  {
   "cell_type": "code",
   "execution_count": 28,
   "outputs": [
    {
     "data": {
      "text/plain": "                    material        vehicle      2A       3A\n0           rifiuto rd carta           COMP  2000.0   6000.0\n1  rifiuto rd multimateriale           COMP  1500.0   4000.0\n2    rifiuto indifferenziato           COMP  3000.0  10000.0\n3    rifiuto indifferenziato  COMP SIDE LOA  5000.0  10000.0\n4           rifiuto rd carta  COMP SIDE LOA  3000.0   6000.0\n5  rifiuto rd multimateriale  COMP SIDE LOA  2000.0   4000.0\n6           rifiuto rd umido  COMP SIDE LOA  5000.0  10000.0",
      "text/html": "<div>\n<style scoped>\n    .dataframe tbody tr th:only-of-type {\n        vertical-align: middle;\n    }\n\n    .dataframe tbody tr th {\n        vertical-align: top;\n    }\n\n    .dataframe thead th {\n        text-align: right;\n    }\n</style>\n<table border=\"1\" class=\"dataframe\">\n  <thead>\n    <tr style=\"text-align: right;\">\n      <th></th>\n      <th>material</th>\n      <th>vehicle</th>\n      <th>2A</th>\n      <th>3A</th>\n    </tr>\n  </thead>\n  <tbody>\n    <tr>\n      <th>0</th>\n      <td>rifiuto rd carta</td>\n      <td>COMP</td>\n      <td>2000.0</td>\n      <td>6000.0</td>\n    </tr>\n    <tr>\n      <th>1</th>\n      <td>rifiuto rd multimateriale</td>\n      <td>COMP</td>\n      <td>1500.0</td>\n      <td>4000.0</td>\n    </tr>\n    <tr>\n      <th>2</th>\n      <td>rifiuto indifferenziato</td>\n      <td>COMP</td>\n      <td>3000.0</td>\n      <td>10000.0</td>\n    </tr>\n    <tr>\n      <th>3</th>\n      <td>rifiuto indifferenziato</td>\n      <td>COMP SIDE LOA</td>\n      <td>5000.0</td>\n      <td>10000.0</td>\n    </tr>\n    <tr>\n      <th>4</th>\n      <td>rifiuto rd carta</td>\n      <td>COMP SIDE LOA</td>\n      <td>3000.0</td>\n      <td>6000.0</td>\n    </tr>\n    <tr>\n      <th>5</th>\n      <td>rifiuto rd multimateriale</td>\n      <td>COMP SIDE LOA</td>\n      <td>2000.0</td>\n      <td>4000.0</td>\n    </tr>\n    <tr>\n      <th>6</th>\n      <td>rifiuto rd umido</td>\n      <td>COMP SIDE LOA</td>\n      <td>5000.0</td>\n      <td>10000.0</td>\n    </tr>\n  </tbody>\n</table>\n</div>"
     },
     "execution_count": 28,
     "metadata": {},
     "output_type": "execute_result"
    }
   ],
   "source": [
    "df_vehicles_weight = pd.read_excel(\"Data/capacità veicoli per tipo servizio.xlsx\", index_col=None, header=1).iloc[0:9,0:7].dropna(axis=1, how='all').fillna(0)\n",
    "df_vehicles_weight.columns=['Etichette di riga', 'COMP 2A', 'COMP 3A', 'COMP SIDE LOA 2A', 'COMP SIDE LOA 3A']\n",
    "material_dict = {\"A6 RACCOLTA CP CARTA\": [\"rifiuto rd carta\", \"COMP\"],\n",
    "                 \"B2 RACCOLTA CP RESIDUO RU\": [\"rifiuto indifferenziato\", \"COMP\"],\n",
    "                 \"A7 RACCOLTA CP MULTI\": [\"rifiuto rd multimateriale\", \"COMP\"],\n",
    "                 \"C0 RACCOLTA CSL ORGANICO\": [\"rifiuto rd umido\", \"COMP SIDE LOA\"],\n",
    "                 \"B4 RACCOLTA CSL CARTA\": [\"rifiuto rd carta\", \"COMP SIDE LOA\"],\n",
    "                 \"B3 RACCOLTA CSL RESIDUO RU\": [\"rifiuto indifferenziato\", \"COMP SIDE LOA\"],\n",
    "                 \"B9 RACCOLTA CSL MULTI\": [\"rifiuto rd multimateriale\", \"COMP SIDE LOA\"]\n",
    "                 }\n",
    "df_vehicles_weight['Etichette di riga'].apply(lambda x: material_dict[x])\n",
    "df_vehicles_weight['material'] = df_vehicles_weight['Etichette di riga'].apply(lambda x: material_dict[x][0])\n",
    "df_vehicles_weight['vehicle'] = df_vehicles_weight['Etichette di riga'].apply(lambda x: material_dict[x][1])\n",
    "df_vehicles_weight['2A'] = df_vehicles_weight['COMP 2A'] + df_vehicles_weight['COMP SIDE LOA 2A']\n",
    "df_vehicles_weight['3A'] = df_vehicles_weight['COMP 3A'] + df_vehicles_weight['COMP SIDE LOA 3A']\n",
    "df_vehicles_weight = df_vehicles_weight[['material', 'vehicle', '2A', '3A']]\n",
    "df_vehicles_weight"
   ],
   "metadata": {
    "collapsed": false,
    "pycharm": {
     "name": "#%%\n"
    }
   }
  },
  {
   "cell_type": "code",
   "execution_count": 29,
   "outputs": [
    {
     "data": {
      "text/plain": "{'rifiuto rd carta': {'dummy': 0,\n  'COMP 2A': 2000.0,\n  'COMP 3A': 6000.0,\n  'COMP SIDE LOA 2A': 3000.0,\n  'COMP SIDE LOA 3A': 6000.0},\n 'rifiuto rd multimateriale': {'dummy': 0,\n  'COMP 2A': 1500.0,\n  'COMP 3A': 4000.0,\n  'COMP SIDE LOA 2A': 2000.0,\n  'COMP SIDE LOA 3A': 4000.0},\n 'rifiuto indifferenziato': {'dummy': 0,\n  'COMP 2A': 3000.0,\n  'COMP 3A': 10000.0,\n  'COMP SIDE LOA 2A': 5000.0,\n  'COMP SIDE LOA 3A': 10000.0},\n 'rifiuto rd umido': {'dummy': 0,\n  'COMP SIDE LOA 2A': 5000.0,\n  'COMP SIDE LOA 3A': 10000.0,\n  'COMP 2A': 5000.0,\n  'COMP 3A': 10000.0}}"
     },
     "execution_count": 29,
     "metadata": {},
     "output_type": "execute_result"
    }
   ],
   "source": [
    "vehicle_weight_dict = {key: {'dummy': 0} for key in df_vehicles_weight['material']}\n",
    "for idx, mw in df_vehicles_weight.iterrows():\n",
    "    vehicle_weight_dict[mw['material']].update({mw['vehicle'] + ' 2A': mw['2A']})\n",
    "    vehicle_weight_dict[mw['material']].update({mw['vehicle'] + ' 3A': mw['3A']})\n",
    "vehicle_weight_dict['rifiuto rd umido'].update({'COMP 2A': vehicle_weight_dict['rifiuto rd umido']['COMP SIDE LOA 2A']})\n",
    "vehicle_weight_dict['rifiuto rd umido'].update({'COMP 3A': vehicle_weight_dict['rifiuto rd umido']['COMP SIDE LOA 3A']})\n",
    "vehicle_weight_dict"
   ],
   "metadata": {
    "collapsed": false,
    "pycharm": {
     "name": "#%%\n"
    }
   }
  },
  {
   "cell_type": "code",
   "execution_count": 30,
   "outputs": [],
   "source": [
    "#### questo dataframe ha tutte le righe di df_servizi, con aggiunte le lat e long del baricentro dell'itinerario.\n",
    "df_services_barycenter = pd.merge(left = df_services, right = df_barycentre, left_on = \"Itinerario cod\", right_on = \"Itinerario cod\")\n",
    "#df_services_barycenter.head()"
   ],
   "metadata": {
    "collapsed": false,
    "pycharm": {
     "name": "#%%\n"
    }
   }
  },
  {
   "cell_type": "code",
   "execution_count": 31,
   "outputs": [],
   "source": [
    "df_services_plants = pd.merge(left = df_services_barycenter, right = df_facilities[[\"DESC_IMPIANTO\", \"SHAPE.MINY\",\t\"SHAPE.MINX\"]], left_on = \"Destinazione Principale\", right_on = \"DESC_IMPIANTO\")"
   ],
   "metadata": {
    "collapsed": false,
    "pycharm": {
     "name": "#%%\n"
    }
   }
  },
  {
   "cell_type": "code",
   "execution_count": 32,
   "outputs": [
    {
     "data": {
      "text/plain": "     service_id AMA_depot        lat       long    lat_end   long_end  \\\n0        13B22P   AUTO_AC  41.755543  12.307232  41.850860  12.332095   \n1       M12AR01   AUTO_AC  41.811028  12.477159  41.850860  12.332095   \n2      M12AR01M   AUTO_AC  41.811028  12.477159  41.850860  12.332095   \n3      M12AR01N   AUTO_AC  41.795607  12.461694  41.850860  12.332095   \n4       M12AS02   AUTO_AC  41.831535  12.529932  41.850860  12.332095   \n..          ...       ...        ...        ...        ...        ...   \n814  04RD10-CAB   AUTO_SA  41.969900  12.515066  41.816944  12.593219   \n815  04RD11-CAB   AUTO_SA  41.957313  12.517947  41.816944  12.593219   \n816  04RD12-CAB   AUTO_SA  41.967933  12.525606  41.816944  12.593219   \n817   20RD07-CA   AUTO_SA  42.001417  12.413598  41.816944  12.593219   \n818   20RD09-CA   AUTO_SA  41.954944  12.456745  41.816944  12.593219   \n\n           time                 material       AMA_vehicle  quantity(kg)  ...  \\\n0     49.333333  rifiuto indifferenziato           COMP 2A          1280  ...   \n1    193.000000  rifiuto indifferenziato  COMP SIDE LOA 3A          6020  ...   \n2    190.166667  rifiuto indifferenziato  COMP SIDE LOA 3A          5950  ...   \n3    199.166667  rifiuto indifferenziato  COMP SIDE LOA 3A          6370  ...   \n4    229.500000  rifiuto indifferenziato  COMP SIDE LOA 3A          7350  ...   \n..          ...                      ...               ...           ...  ...   \n814  278.000000         rifiuto rd carta  COMP SIDE LOA 3A          5460  ...   \n815  284.666667         rifiuto rd carta  COMP SIDE LOA 3A          5340  ...   \n816  306.666667         rifiuto rd carta  COMP SIDE LOA 3A          6240  ...   \n817  222.000000         rifiuto rd carta  COMP SIDE LOA 3A          4020  ...   \n818  183.333333         rifiuto rd carta  COMP SIDE LOA 2A          3300  ...   \n\n     MAR  MER  GIO  VEN  SAB  DOM  \\\n0      P    P    P    P    P  NaN   \n1      P    P    P    P    P  NaN   \n2    NaN  NaN  NaN  NaN  NaN    M   \n3      N    N    N    N    N    N   \n4      P    P    P    P    P  NaN   \n..   ...  ...  ...  ...  ...  ...   \n814  NaN  NaN    M  NaN  NaN  NaN   \n815    M  NaN  NaN    M  NaN  NaN   \n816  NaN    M  NaN  NaN    M  NaN   \n817  NaN    M  NaN  NaN    M  NaN   \n818  NaN  NaN    P  NaN  NaN  NaN   \n\n                                AMA_facility_desc  AMA_facility_id  \\\n0    TMB MALAGROTTA 1/2 (RIFIUTO INDIFFERENZIATO)  IMP_000010_0011   \n1    TMB MALAGROTTA 1/2 (RIFIUTO INDIFFERENZIATO)  IMP_000010_0011   \n2    TMB MALAGROTTA 1/2 (RIFIUTO INDIFFERENZIATO)  IMP_000010_0011   \n3    TMB MALAGROTTA 1/2 (RIFIUTO INDIFFERENZIATO)  IMP_000010_0011   \n4    TMB MALAGROTTA 1/2 (RIFIUTO INDIFFERENZIATO)  IMP_000010_0011   \n..                                            ...              ...   \n814              ROMANA MACERI (RIFIUTO RD CARTA)  IMP_000016_0013   \n815              ROMANA MACERI (RIFIUTO RD CARTA)  IMP_000016_0013   \n816              ROMANA MACERI (RIFIUTO RD CARTA)  IMP_000016_0013   \n817              ROMANA MACERI (RIFIUTO RD CARTA)  IMP_000016_0013   \n818              ROMANA MACERI (RIFIUTO RD CARTA)  IMP_000016_0013   \n\n    bin_volume(m3) volume(m3)  \n0              1.1       35.2  \n1              2.4      206.4  \n2              2.4      204.0  \n3              2.4      218.4  \n4              2.4      252.0  \n..             ...        ...  \n814            2.4      218.4  \n815            2.4      213.6  \n816            2.4      249.6  \n817            2.4      160.8  \n818            2.4      132.0  \n\n[819 rows x 22 columns]",
      "text/html": "<div>\n<style scoped>\n    .dataframe tbody tr th:only-of-type {\n        vertical-align: middle;\n    }\n\n    .dataframe tbody tr th {\n        vertical-align: top;\n    }\n\n    .dataframe thead th {\n        text-align: right;\n    }\n</style>\n<table border=\"1\" class=\"dataframe\">\n  <thead>\n    <tr style=\"text-align: right;\">\n      <th></th>\n      <th>service_id</th>\n      <th>AMA_depot</th>\n      <th>lat</th>\n      <th>long</th>\n      <th>lat_end</th>\n      <th>long_end</th>\n      <th>time</th>\n      <th>material</th>\n      <th>AMA_vehicle</th>\n      <th>quantity(kg)</th>\n      <th>...</th>\n      <th>MAR</th>\n      <th>MER</th>\n      <th>GIO</th>\n      <th>VEN</th>\n      <th>SAB</th>\n      <th>DOM</th>\n      <th>AMA_facility_desc</th>\n      <th>AMA_facility_id</th>\n      <th>bin_volume(m3)</th>\n      <th>volume(m3)</th>\n    </tr>\n  </thead>\n  <tbody>\n    <tr>\n      <th>0</th>\n      <td>13B22P</td>\n      <td>AUTO_AC</td>\n      <td>41.755543</td>\n      <td>12.307232</td>\n      <td>41.850860</td>\n      <td>12.332095</td>\n      <td>49.333333</td>\n      <td>rifiuto indifferenziato</td>\n      <td>COMP 2A</td>\n      <td>1280</td>\n      <td>...</td>\n      <td>P</td>\n      <td>P</td>\n      <td>P</td>\n      <td>P</td>\n      <td>P</td>\n      <td>NaN</td>\n      <td>TMB MALAGROTTA 1/2 (RIFIUTO INDIFFERENZIATO)</td>\n      <td>IMP_000010_0011</td>\n      <td>1.1</td>\n      <td>35.2</td>\n    </tr>\n    <tr>\n      <th>1</th>\n      <td>M12AR01</td>\n      <td>AUTO_AC</td>\n      <td>41.811028</td>\n      <td>12.477159</td>\n      <td>41.850860</td>\n      <td>12.332095</td>\n      <td>193.000000</td>\n      <td>rifiuto indifferenziato</td>\n      <td>COMP SIDE LOA 3A</td>\n      <td>6020</td>\n      <td>...</td>\n      <td>P</td>\n      <td>P</td>\n      <td>P</td>\n      <td>P</td>\n      <td>P</td>\n      <td>NaN</td>\n      <td>TMB MALAGROTTA 1/2 (RIFIUTO INDIFFERENZIATO)</td>\n      <td>IMP_000010_0011</td>\n      <td>2.4</td>\n      <td>206.4</td>\n    </tr>\n    <tr>\n      <th>2</th>\n      <td>M12AR01M</td>\n      <td>AUTO_AC</td>\n      <td>41.811028</td>\n      <td>12.477159</td>\n      <td>41.850860</td>\n      <td>12.332095</td>\n      <td>190.166667</td>\n      <td>rifiuto indifferenziato</td>\n      <td>COMP SIDE LOA 3A</td>\n      <td>5950</td>\n      <td>...</td>\n      <td>NaN</td>\n      <td>NaN</td>\n      <td>NaN</td>\n      <td>NaN</td>\n      <td>NaN</td>\n      <td>M</td>\n      <td>TMB MALAGROTTA 1/2 (RIFIUTO INDIFFERENZIATO)</td>\n      <td>IMP_000010_0011</td>\n      <td>2.4</td>\n      <td>204.0</td>\n    </tr>\n    <tr>\n      <th>3</th>\n      <td>M12AR01N</td>\n      <td>AUTO_AC</td>\n      <td>41.795607</td>\n      <td>12.461694</td>\n      <td>41.850860</td>\n      <td>12.332095</td>\n      <td>199.166667</td>\n      <td>rifiuto indifferenziato</td>\n      <td>COMP SIDE LOA 3A</td>\n      <td>6370</td>\n      <td>...</td>\n      <td>N</td>\n      <td>N</td>\n      <td>N</td>\n      <td>N</td>\n      <td>N</td>\n      <td>N</td>\n      <td>TMB MALAGROTTA 1/2 (RIFIUTO INDIFFERENZIATO)</td>\n      <td>IMP_000010_0011</td>\n      <td>2.4</td>\n      <td>218.4</td>\n    </tr>\n    <tr>\n      <th>4</th>\n      <td>M12AS02</td>\n      <td>AUTO_AC</td>\n      <td>41.831535</td>\n      <td>12.529932</td>\n      <td>41.850860</td>\n      <td>12.332095</td>\n      <td>229.500000</td>\n      <td>rifiuto indifferenziato</td>\n      <td>COMP SIDE LOA 3A</td>\n      <td>7350</td>\n      <td>...</td>\n      <td>P</td>\n      <td>P</td>\n      <td>P</td>\n      <td>P</td>\n      <td>P</td>\n      <td>NaN</td>\n      <td>TMB MALAGROTTA 1/2 (RIFIUTO INDIFFERENZIATO)</td>\n      <td>IMP_000010_0011</td>\n      <td>2.4</td>\n      <td>252.0</td>\n    </tr>\n    <tr>\n      <th>...</th>\n      <td>...</td>\n      <td>...</td>\n      <td>...</td>\n      <td>...</td>\n      <td>...</td>\n      <td>...</td>\n      <td>...</td>\n      <td>...</td>\n      <td>...</td>\n      <td>...</td>\n      <td>...</td>\n      <td>...</td>\n      <td>...</td>\n      <td>...</td>\n      <td>...</td>\n      <td>...</td>\n      <td>...</td>\n      <td>...</td>\n      <td>...</td>\n      <td>...</td>\n      <td>...</td>\n    </tr>\n    <tr>\n      <th>814</th>\n      <td>04RD10-CAB</td>\n      <td>AUTO_SA</td>\n      <td>41.969900</td>\n      <td>12.515066</td>\n      <td>41.816944</td>\n      <td>12.593219</td>\n      <td>278.000000</td>\n      <td>rifiuto rd carta</td>\n      <td>COMP SIDE LOA 3A</td>\n      <td>5460</td>\n      <td>...</td>\n      <td>NaN</td>\n      <td>NaN</td>\n      <td>M</td>\n      <td>NaN</td>\n      <td>NaN</td>\n      <td>NaN</td>\n      <td>ROMANA MACERI (RIFIUTO RD CARTA)</td>\n      <td>IMP_000016_0013</td>\n      <td>2.4</td>\n      <td>218.4</td>\n    </tr>\n    <tr>\n      <th>815</th>\n      <td>04RD11-CAB</td>\n      <td>AUTO_SA</td>\n      <td>41.957313</td>\n      <td>12.517947</td>\n      <td>41.816944</td>\n      <td>12.593219</td>\n      <td>284.666667</td>\n      <td>rifiuto rd carta</td>\n      <td>COMP SIDE LOA 3A</td>\n      <td>5340</td>\n      <td>...</td>\n      <td>M</td>\n      <td>NaN</td>\n      <td>NaN</td>\n      <td>M</td>\n      <td>NaN</td>\n      <td>NaN</td>\n      <td>ROMANA MACERI (RIFIUTO RD CARTA)</td>\n      <td>IMP_000016_0013</td>\n      <td>2.4</td>\n      <td>213.6</td>\n    </tr>\n    <tr>\n      <th>816</th>\n      <td>04RD12-CAB</td>\n      <td>AUTO_SA</td>\n      <td>41.967933</td>\n      <td>12.525606</td>\n      <td>41.816944</td>\n      <td>12.593219</td>\n      <td>306.666667</td>\n      <td>rifiuto rd carta</td>\n      <td>COMP SIDE LOA 3A</td>\n      <td>6240</td>\n      <td>...</td>\n      <td>NaN</td>\n      <td>M</td>\n      <td>NaN</td>\n      <td>NaN</td>\n      <td>M</td>\n      <td>NaN</td>\n      <td>ROMANA MACERI (RIFIUTO RD CARTA)</td>\n      <td>IMP_000016_0013</td>\n      <td>2.4</td>\n      <td>249.6</td>\n    </tr>\n    <tr>\n      <th>817</th>\n      <td>20RD07-CA</td>\n      <td>AUTO_SA</td>\n      <td>42.001417</td>\n      <td>12.413598</td>\n      <td>41.816944</td>\n      <td>12.593219</td>\n      <td>222.000000</td>\n      <td>rifiuto rd carta</td>\n      <td>COMP SIDE LOA 3A</td>\n      <td>4020</td>\n      <td>...</td>\n      <td>NaN</td>\n      <td>M</td>\n      <td>NaN</td>\n      <td>NaN</td>\n      <td>M</td>\n      <td>NaN</td>\n      <td>ROMANA MACERI (RIFIUTO RD CARTA)</td>\n      <td>IMP_000016_0013</td>\n      <td>2.4</td>\n      <td>160.8</td>\n    </tr>\n    <tr>\n      <th>818</th>\n      <td>20RD09-CA</td>\n      <td>AUTO_SA</td>\n      <td>41.954944</td>\n      <td>12.456745</td>\n      <td>41.816944</td>\n      <td>12.593219</td>\n      <td>183.333333</td>\n      <td>rifiuto rd carta</td>\n      <td>COMP SIDE LOA 2A</td>\n      <td>3300</td>\n      <td>...</td>\n      <td>NaN</td>\n      <td>NaN</td>\n      <td>P</td>\n      <td>NaN</td>\n      <td>NaN</td>\n      <td>NaN</td>\n      <td>ROMANA MACERI (RIFIUTO RD CARTA)</td>\n      <td>IMP_000016_0013</td>\n      <td>2.4</td>\n      <td>132.0</td>\n    </tr>\n  </tbody>\n</table>\n<p>819 rows × 22 columns</p>\n</div>"
     },
     "execution_count": 32,
     "metadata": {},
     "output_type": "execute_result"
    }
   ],
   "source": [
    "dict_name_mapping = {\"Itinerario cod\": \"service_id\", \"Latitudine\": \"lat\",\"Longitudine\": \"long\",\"SHAPE.MINY\":  \"lat_end\", \"SHAPE.MINX\": \"long_end\", \"TEMPO\\n(H)\":\"time\" , \"Tipologia Rifiuto\":\"material\", \"PESO PRESUNTO\\n(KG)\": \"quantity(kg)\", \"Tipo Mezzo Preferenziale\": \"AMA_vehicle\", 'N°Contenitori\\n(se raccolta)': \"num_bins\", \"Destinazione Principale\": \"AMA_facility_desc\", \"CDL Gestore\": \"AMA_depot\"}\n",
    "df_service_internal = df_services_plants[[\"CDL Gestore\", \"Itinerario cod\", \"Latitudine\", \"Longitudine\", \"SHAPE.MINY\",\"SHAPE.MINX\", \"TEMPO\\n(H)\" ,\"Tipologia Rifiuto\", \"Tipo Mezzo Preferenziale\", \"PESO PRESUNTO\\n(KG)\", 'N°Contenitori\\n(se raccolta)', \"LUN\", \"MAR\", \"MER\", \"GIO\", \"VEN\", \"SAB\", \"DOM\", \"Destinazione Principale\"]].rename(columns = dict_name_mapping)\n",
    "### 2Assi, 2Assi voltabidoni, 2Assi voltasacchiebidoni - li possiamo trattare tutti allo stesso modo.\n",
    "df_service_internal.replace({'COMP 2A V BID': 'COMP 2A', 'COMP 2A V SAC E B': 'COMP 2A'}, inplace = True)\n",
    "set(df_service_internal[\"AMA_vehicle\"])\n",
    "df_service_internal = df_service_internal.set_index(\"service_id\")\n",
    "df_service_internal[\"material\"] = df_service_internal[\"material\"].str.lower()\n",
    "df_service_internal.reset_index(inplace = True)\n",
    "### trasformiamo il tempo del servizio da ore a minuti\n",
    "df_service_internal[\"time\"] *= 60\n",
    "### we add the preferred_facility column to each service (both desc and id)\n",
    "df_service_internal = pd.merge(left = df_service_internal, right = df_facilities[[\"COD_IMPIANTO\", \"DESC_IMPIANTO\"]], left_on =  \"AMA_facility_desc\", right_on = \"DESC_IMPIANTO\").drop(columns = ['DESC_IMPIANTO']).rename(columns = {\"COD_IMPIANTO\": \"AMA_facility_id\"})\n",
    "### aggiungiamo la capacità dei cassonetti a seconda del tipo di veicolo\n",
    "mask_side_loader = (df_service_internal[\"AMA_vehicle\"] == \"COMP SIDE LOA 3A\") |  (df_service_internal[\"AMA_vehicle\"] == \"COMP SIDE LOA 2A\")\n",
    "df_service_internal[\"bin_volume(m3)\"] = 1.1\n",
    "\n",
    "df_service_internal.loc[mask_side_loader, \"bin_volume(m3)\"] = 2.4\n",
    "df_service_internal[\"volume(m3)\"] = df_service_internal[\"bin_volume(m3)\"]*df_service_internal[\"num_bins\"]\n",
    "df_service_internal"
   ],
   "metadata": {
    "collapsed": false,
    "pycharm": {
     "name": "#%%\n"
    }
   }
  },
  {
   "cell_type": "code",
   "execution_count": 33,
   "outputs": [
    {
     "data": {
      "text/plain": "     service_id AMA_depot        lat       long    lat_end   long_end  \\\n0        13B22P   AUTO_AC  41.755543  12.307232  41.850860  12.332095   \n1       M12AR01   AUTO_AC  41.811028  12.477159  41.850860  12.332095   \n2      M12AR01M   AUTO_AC  41.811028  12.477159  41.850860  12.332095   \n3      M12AR01N   AUTO_AC  41.795607  12.461694  41.850860  12.332095   \n4       M12AS02   AUTO_AC  41.831535  12.529932  41.850860  12.332095   \n..          ...       ...        ...        ...        ...        ...   \n814  04RD10-CAB   AUTO_SA  41.969900  12.515066  41.816944  12.593219   \n815  04RD11-CAB   AUTO_SA  41.957313  12.517947  41.816944  12.593219   \n816  04RD12-CAB   AUTO_SA  41.967933  12.525606  41.816944  12.593219   \n817   20RD07-CA   AUTO_SA  42.001417  12.413598  41.816944  12.593219   \n818   20RD09-CA   AUTO_SA  41.954944  12.456745  41.816944  12.593219   \n\n           time                 material       AMA_vehicle  quantity(kg)  ...  \\\n0     49.333333  rifiuto indifferenziato           COMP 2A          1280  ...   \n1    193.000000  rifiuto indifferenziato  COMP SIDE LOA 3A          6020  ...   \n2    190.166667  rifiuto indifferenziato  COMP SIDE LOA 3A          5950  ...   \n3    199.166667  rifiuto indifferenziato  COMP SIDE LOA 3A          6370  ...   \n4    229.500000  rifiuto indifferenziato  COMP SIDE LOA 3A          7350  ...   \n..          ...                      ...               ...           ...  ...   \n814  278.000000         rifiuto rd carta  COMP SIDE LOA 3A          5460  ...   \n815  284.666667         rifiuto rd carta  COMP SIDE LOA 3A          5340  ...   \n816  306.666667         rifiuto rd carta  COMP SIDE LOA 3A          6240  ...   \n817  222.000000         rifiuto rd carta  COMP SIDE LOA 3A          4020  ...   \n818  183.333333         rifiuto rd carta  COMP SIDE LOA 2A          3300  ...   \n\n     GIO  VEN  SAB  DOM                             AMA_facility_desc  \\\n0      P    P    P  NaN  TMB MALAGROTTA 1/2 (RIFIUTO INDIFFERENZIATO)   \n1      P    P    P  NaN  TMB MALAGROTTA 1/2 (RIFIUTO INDIFFERENZIATO)   \n2    NaN  NaN  NaN    M  TMB MALAGROTTA 1/2 (RIFIUTO INDIFFERENZIATO)   \n3      N    N    N    N  TMB MALAGROTTA 1/2 (RIFIUTO INDIFFERENZIATO)   \n4      P    P    P  NaN  TMB MALAGROTTA 1/2 (RIFIUTO INDIFFERENZIATO)   \n..   ...  ...  ...  ...                                           ...   \n814    M  NaN  NaN  NaN              ROMANA MACERI (RIFIUTO RD CARTA)   \n815  NaN    M  NaN  NaN              ROMANA MACERI (RIFIUTO RD CARTA)   \n816  NaN  NaN    M  NaN              ROMANA MACERI (RIFIUTO RD CARTA)   \n817  NaN  NaN    M  NaN              ROMANA MACERI (RIFIUTO RD CARTA)   \n818    P  NaN  NaN  NaN              ROMANA MACERI (RIFIUTO RD CARTA)   \n\n     AMA_facility_id bin_volume(m3) volume(m3) max_vehicle_cap(kg) over_load  \n0    IMP_000010_0011            1.1       35.2              3000.0         F  \n1    IMP_000010_0011            2.4      206.4             10000.0         F  \n2    IMP_000010_0011            2.4      204.0             10000.0         F  \n3    IMP_000010_0011            2.4      218.4             10000.0         F  \n4    IMP_000010_0011            2.4      252.0             10000.0         F  \n..               ...            ...        ...                 ...       ...  \n814  IMP_000016_0013            2.4      218.4              6000.0         F  \n815  IMP_000016_0013            2.4      213.6              6000.0         F  \n816  IMP_000016_0013            2.4      249.6              6000.0         T  \n817  IMP_000016_0013            2.4      160.8              6000.0         F  \n818  IMP_000016_0013            2.4      132.0              3000.0         T  \n\n[819 rows x 24 columns]",
      "text/html": "<div>\n<style scoped>\n    .dataframe tbody tr th:only-of-type {\n        vertical-align: middle;\n    }\n\n    .dataframe tbody tr th {\n        vertical-align: top;\n    }\n\n    .dataframe thead th {\n        text-align: right;\n    }\n</style>\n<table border=\"1\" class=\"dataframe\">\n  <thead>\n    <tr style=\"text-align: right;\">\n      <th></th>\n      <th>service_id</th>\n      <th>AMA_depot</th>\n      <th>lat</th>\n      <th>long</th>\n      <th>lat_end</th>\n      <th>long_end</th>\n      <th>time</th>\n      <th>material</th>\n      <th>AMA_vehicle</th>\n      <th>quantity(kg)</th>\n      <th>...</th>\n      <th>GIO</th>\n      <th>VEN</th>\n      <th>SAB</th>\n      <th>DOM</th>\n      <th>AMA_facility_desc</th>\n      <th>AMA_facility_id</th>\n      <th>bin_volume(m3)</th>\n      <th>volume(m3)</th>\n      <th>max_vehicle_cap(kg)</th>\n      <th>over_load</th>\n    </tr>\n  </thead>\n  <tbody>\n    <tr>\n      <th>0</th>\n      <td>13B22P</td>\n      <td>AUTO_AC</td>\n      <td>41.755543</td>\n      <td>12.307232</td>\n      <td>41.850860</td>\n      <td>12.332095</td>\n      <td>49.333333</td>\n      <td>rifiuto indifferenziato</td>\n      <td>COMP 2A</td>\n      <td>1280</td>\n      <td>...</td>\n      <td>P</td>\n      <td>P</td>\n      <td>P</td>\n      <td>NaN</td>\n      <td>TMB MALAGROTTA 1/2 (RIFIUTO INDIFFERENZIATO)</td>\n      <td>IMP_000010_0011</td>\n      <td>1.1</td>\n      <td>35.2</td>\n      <td>3000.0</td>\n      <td>F</td>\n    </tr>\n    <tr>\n      <th>1</th>\n      <td>M12AR01</td>\n      <td>AUTO_AC</td>\n      <td>41.811028</td>\n      <td>12.477159</td>\n      <td>41.850860</td>\n      <td>12.332095</td>\n      <td>193.000000</td>\n      <td>rifiuto indifferenziato</td>\n      <td>COMP SIDE LOA 3A</td>\n      <td>6020</td>\n      <td>...</td>\n      <td>P</td>\n      <td>P</td>\n      <td>P</td>\n      <td>NaN</td>\n      <td>TMB MALAGROTTA 1/2 (RIFIUTO INDIFFERENZIATO)</td>\n      <td>IMP_000010_0011</td>\n      <td>2.4</td>\n      <td>206.4</td>\n      <td>10000.0</td>\n      <td>F</td>\n    </tr>\n    <tr>\n      <th>2</th>\n      <td>M12AR01M</td>\n      <td>AUTO_AC</td>\n      <td>41.811028</td>\n      <td>12.477159</td>\n      <td>41.850860</td>\n      <td>12.332095</td>\n      <td>190.166667</td>\n      <td>rifiuto indifferenziato</td>\n      <td>COMP SIDE LOA 3A</td>\n      <td>5950</td>\n      <td>...</td>\n      <td>NaN</td>\n      <td>NaN</td>\n      <td>NaN</td>\n      <td>M</td>\n      <td>TMB MALAGROTTA 1/2 (RIFIUTO INDIFFERENZIATO)</td>\n      <td>IMP_000010_0011</td>\n      <td>2.4</td>\n      <td>204.0</td>\n      <td>10000.0</td>\n      <td>F</td>\n    </tr>\n    <tr>\n      <th>3</th>\n      <td>M12AR01N</td>\n      <td>AUTO_AC</td>\n      <td>41.795607</td>\n      <td>12.461694</td>\n      <td>41.850860</td>\n      <td>12.332095</td>\n      <td>199.166667</td>\n      <td>rifiuto indifferenziato</td>\n      <td>COMP SIDE LOA 3A</td>\n      <td>6370</td>\n      <td>...</td>\n      <td>N</td>\n      <td>N</td>\n      <td>N</td>\n      <td>N</td>\n      <td>TMB MALAGROTTA 1/2 (RIFIUTO INDIFFERENZIATO)</td>\n      <td>IMP_000010_0011</td>\n      <td>2.4</td>\n      <td>218.4</td>\n      <td>10000.0</td>\n      <td>F</td>\n    </tr>\n    <tr>\n      <th>4</th>\n      <td>M12AS02</td>\n      <td>AUTO_AC</td>\n      <td>41.831535</td>\n      <td>12.529932</td>\n      <td>41.850860</td>\n      <td>12.332095</td>\n      <td>229.500000</td>\n      <td>rifiuto indifferenziato</td>\n      <td>COMP SIDE LOA 3A</td>\n      <td>7350</td>\n      <td>...</td>\n      <td>P</td>\n      <td>P</td>\n      <td>P</td>\n      <td>NaN</td>\n      <td>TMB MALAGROTTA 1/2 (RIFIUTO INDIFFERENZIATO)</td>\n      <td>IMP_000010_0011</td>\n      <td>2.4</td>\n      <td>252.0</td>\n      <td>10000.0</td>\n      <td>F</td>\n    </tr>\n    <tr>\n      <th>...</th>\n      <td>...</td>\n      <td>...</td>\n      <td>...</td>\n      <td>...</td>\n      <td>...</td>\n      <td>...</td>\n      <td>...</td>\n      <td>...</td>\n      <td>...</td>\n      <td>...</td>\n      <td>...</td>\n      <td>...</td>\n      <td>...</td>\n      <td>...</td>\n      <td>...</td>\n      <td>...</td>\n      <td>...</td>\n      <td>...</td>\n      <td>...</td>\n      <td>...</td>\n      <td>...</td>\n    </tr>\n    <tr>\n      <th>814</th>\n      <td>04RD10-CAB</td>\n      <td>AUTO_SA</td>\n      <td>41.969900</td>\n      <td>12.515066</td>\n      <td>41.816944</td>\n      <td>12.593219</td>\n      <td>278.000000</td>\n      <td>rifiuto rd carta</td>\n      <td>COMP SIDE LOA 3A</td>\n      <td>5460</td>\n      <td>...</td>\n      <td>M</td>\n      <td>NaN</td>\n      <td>NaN</td>\n      <td>NaN</td>\n      <td>ROMANA MACERI (RIFIUTO RD CARTA)</td>\n      <td>IMP_000016_0013</td>\n      <td>2.4</td>\n      <td>218.4</td>\n      <td>6000.0</td>\n      <td>F</td>\n    </tr>\n    <tr>\n      <th>815</th>\n      <td>04RD11-CAB</td>\n      <td>AUTO_SA</td>\n      <td>41.957313</td>\n      <td>12.517947</td>\n      <td>41.816944</td>\n      <td>12.593219</td>\n      <td>284.666667</td>\n      <td>rifiuto rd carta</td>\n      <td>COMP SIDE LOA 3A</td>\n      <td>5340</td>\n      <td>...</td>\n      <td>NaN</td>\n      <td>M</td>\n      <td>NaN</td>\n      <td>NaN</td>\n      <td>ROMANA MACERI (RIFIUTO RD CARTA)</td>\n      <td>IMP_000016_0013</td>\n      <td>2.4</td>\n      <td>213.6</td>\n      <td>6000.0</td>\n      <td>F</td>\n    </tr>\n    <tr>\n      <th>816</th>\n      <td>04RD12-CAB</td>\n      <td>AUTO_SA</td>\n      <td>41.967933</td>\n      <td>12.525606</td>\n      <td>41.816944</td>\n      <td>12.593219</td>\n      <td>306.666667</td>\n      <td>rifiuto rd carta</td>\n      <td>COMP SIDE LOA 3A</td>\n      <td>6240</td>\n      <td>...</td>\n      <td>NaN</td>\n      <td>NaN</td>\n      <td>M</td>\n      <td>NaN</td>\n      <td>ROMANA MACERI (RIFIUTO RD CARTA)</td>\n      <td>IMP_000016_0013</td>\n      <td>2.4</td>\n      <td>249.6</td>\n      <td>6000.0</td>\n      <td>T</td>\n    </tr>\n    <tr>\n      <th>817</th>\n      <td>20RD07-CA</td>\n      <td>AUTO_SA</td>\n      <td>42.001417</td>\n      <td>12.413598</td>\n      <td>41.816944</td>\n      <td>12.593219</td>\n      <td>222.000000</td>\n      <td>rifiuto rd carta</td>\n      <td>COMP SIDE LOA 3A</td>\n      <td>4020</td>\n      <td>...</td>\n      <td>NaN</td>\n      <td>NaN</td>\n      <td>M</td>\n      <td>NaN</td>\n      <td>ROMANA MACERI (RIFIUTO RD CARTA)</td>\n      <td>IMP_000016_0013</td>\n      <td>2.4</td>\n      <td>160.8</td>\n      <td>6000.0</td>\n      <td>F</td>\n    </tr>\n    <tr>\n      <th>818</th>\n      <td>20RD09-CA</td>\n      <td>AUTO_SA</td>\n      <td>41.954944</td>\n      <td>12.456745</td>\n      <td>41.816944</td>\n      <td>12.593219</td>\n      <td>183.333333</td>\n      <td>rifiuto rd carta</td>\n      <td>COMP SIDE LOA 2A</td>\n      <td>3300</td>\n      <td>...</td>\n      <td>P</td>\n      <td>NaN</td>\n      <td>NaN</td>\n      <td>NaN</td>\n      <td>ROMANA MACERI (RIFIUTO RD CARTA)</td>\n      <td>IMP_000016_0013</td>\n      <td>2.4</td>\n      <td>132.0</td>\n      <td>3000.0</td>\n      <td>T</td>\n    </tr>\n  </tbody>\n</table>\n<p>819 rows × 24 columns</p>\n</div>"
     },
     "execution_count": 33,
     "metadata": {},
     "output_type": "execute_result"
    }
   ],
   "source": [
    "df_service_internal[\"max_vehicle_cap(kg)\"] = df_service_internal.apply(lambda x: vehicle_weight_dict[x['material']][x['AMA_vehicle']], axis=1)\n",
    "df_service_internal[\"over_load\"] = df_service_internal.apply(lambda x: \"T\" if x[\"quantity(kg)\"] > x[\"max_vehicle_cap(kg)\"] else \"F\", axis=1)\n",
    "df_service_internal"
   ],
   "metadata": {
    "collapsed": false,
    "pycharm": {
     "name": "#%%\n"
    }
   }
  },
  {
   "cell_type": "markdown",
   "source": [
    "df_services_internal è il file dei servizi così come serve per far girare il modello di Gurobi.\n",
    "\n",
    "Dubbi e domande:\n",
    "\n",
    " - quantity è la quantità in kili. Va bene?"
   ],
   "metadata": {
    "collapsed": false,
    "pycharm": {
     "name": "#%% md\n"
    }
   }
  },
  {
   "cell_type": "markdown",
   "source": [
    "## Depositi\n",
    "#### L'obiettivo di questa sezione è partire dal file che ci ha inviato AMA e ottenere il foglio \"depot\" uguale a quello che avevamo ipotizzato in fake_data"
   ],
   "metadata": {
    "collapsed": false,
    "pycharm": {
     "name": "#%% md\n"
    }
   }
  },
  {
   "cell_type": "code",
   "execution_count": 34,
   "outputs": [
    {
     "data": {
      "text/plain": "{'AUTO_AC', 'AUTO_PM', 'AUTO_RC', 'AUTO_SA', 'AUTO_TP'}"
     },
     "execution_count": 34,
     "metadata": {},
     "output_type": "execute_result"
    }
   ],
   "source": [
    "df_cdl = pd.read_excel('Data/R12_Anagrafica_Servizi_Settimanale_PIPER.xlsx',sheet_name='CDL', skiprows=0)\n",
    "depots = set(df_services[\"CDL Gestore\"])\n",
    "depots"
   ],
   "metadata": {
    "collapsed": false,
    "pycharm": {
     "name": "#%%\n"
    }
   }
  },
  {
   "cell_type": "code",
   "execution_count": 35,
   "outputs": [
    {
     "data": {
      "text/plain": "                lat       long\ndepot_id                      \nAUTO_AC   41.769924  12.323795\nAUTO_PM   41.840815  12.327650\nAUTO_RC   41.884943  12.695035\nAUTO_SA   41.968841  12.505559\nAUTO_TP   41.801046  12.493676",
      "text/html": "<div>\n<style scoped>\n    .dataframe tbody tr th:only-of-type {\n        vertical-align: middle;\n    }\n\n    .dataframe tbody tr th {\n        vertical-align: top;\n    }\n\n    .dataframe thead th {\n        text-align: right;\n    }\n</style>\n<table border=\"1\" class=\"dataframe\">\n  <thead>\n    <tr style=\"text-align: right;\">\n      <th></th>\n      <th>lat</th>\n      <th>long</th>\n    </tr>\n    <tr>\n      <th>depot_id</th>\n      <th></th>\n      <th></th>\n    </tr>\n  </thead>\n  <tbody>\n    <tr>\n      <th>AUTO_AC</th>\n      <td>41.769924</td>\n      <td>12.323795</td>\n    </tr>\n    <tr>\n      <th>AUTO_PM</th>\n      <td>41.840815</td>\n      <td>12.327650</td>\n    </tr>\n    <tr>\n      <th>AUTO_RC</th>\n      <td>41.884943</td>\n      <td>12.695035</td>\n    </tr>\n    <tr>\n      <th>AUTO_SA</th>\n      <td>41.968841</td>\n      <td>12.505559</td>\n    </tr>\n    <tr>\n      <th>AUTO_TP</th>\n      <td>41.801046</td>\n      <td>12.493676</td>\n    </tr>\n  </tbody>\n</table>\n</div>"
     },
     "execution_count": 35,
     "metadata": {},
     "output_type": "execute_result"
    }
   ],
   "source": [
    "#### RIGHE PER INSERIRE I VEICOLI IN DF_DEPOT\n",
    "\n",
    "df_depot_internal = df_cdl[df_cdl[\"CDL\"].isin(depots)].rename(columns = {\"CDL\": \"depot_id\"}).set_index(\"depot_id\")[['Latitudine', 'Longitudine']]\n",
    "\n",
    "dict_name_mapping = {\"Latitudine\": \"lat\", \"Longitudine\": \"long\"}\n",
    "#df_disposal.columns\n",
    "df_depot_internal = df_depot_internal.rename(columns = dict_name_mapping)\n",
    "df_depot_internal"
   ],
   "metadata": {
    "collapsed": false,
    "pycharm": {
     "name": "#%%\n"
    }
   }
  },
  {
   "cell_type": "code",
   "execution_count": 36,
   "outputs": [
    {
     "data": {
      "text/plain": "                lat       long  \\\ndepot_id                         \nAUTO_AC   41.769924  12.323795   \nAUTO_PM   41.840815  12.327650   \nAUTO_RC   41.884943  12.695035   \nAUTO_SA   41.968841  12.505559   \nAUTO_TP   41.801046  12.493676   \n\n                                                    vehicle  \ndepot_id                                                     \nAUTO_AC   {'COMP 2A': 14, 'COMP 3A': 14, 'COMP SIDE LOA ...  \nAUTO_PM   {'COMP 2A': 35, 'COMP 3A': 16, 'COMP SIDE LOA ...  \nAUTO_RC   {'COMP 2A': 31, 'COMP 3A': 27, 'COMP SIDE LOA ...  \nAUTO_SA   {'COMP 2A': 32, 'COMP 3A': 21, 'COMP SIDE LOA ...  \nAUTO_TP   {'COMP 2A': 29, 'COMP 3A': 28, 'COMP SIDE LOA ...  ",
      "text/html": "<div>\n<style scoped>\n    .dataframe tbody tr th:only-of-type {\n        vertical-align: middle;\n    }\n\n    .dataframe tbody tr th {\n        vertical-align: top;\n    }\n\n    .dataframe thead th {\n        text-align: right;\n    }\n</style>\n<table border=\"1\" class=\"dataframe\">\n  <thead>\n    <tr style=\"text-align: right;\">\n      <th></th>\n      <th>lat</th>\n      <th>long</th>\n      <th>vehicle</th>\n    </tr>\n    <tr>\n      <th>depot_id</th>\n      <th></th>\n      <th></th>\n      <th></th>\n    </tr>\n  </thead>\n  <tbody>\n    <tr>\n      <th>AUTO_AC</th>\n      <td>41.769924</td>\n      <td>12.323795</td>\n      <td>{'COMP 2A': 14, 'COMP 3A': 14, 'COMP SIDE LOA ...</td>\n    </tr>\n    <tr>\n      <th>AUTO_PM</th>\n      <td>41.840815</td>\n      <td>12.327650</td>\n      <td>{'COMP 2A': 35, 'COMP 3A': 16, 'COMP SIDE LOA ...</td>\n    </tr>\n    <tr>\n      <th>AUTO_RC</th>\n      <td>41.884943</td>\n      <td>12.695035</td>\n      <td>{'COMP 2A': 31, 'COMP 3A': 27, 'COMP SIDE LOA ...</td>\n    </tr>\n    <tr>\n      <th>AUTO_SA</th>\n      <td>41.968841</td>\n      <td>12.505559</td>\n      <td>{'COMP 2A': 32, 'COMP 3A': 21, 'COMP SIDE LOA ...</td>\n    </tr>\n    <tr>\n      <th>AUTO_TP</th>\n      <td>41.801046</td>\n      <td>12.493676</td>\n      <td>{'COMP 2A': 29, 'COMP 3A': 28, 'COMP SIDE LOA ...</td>\n    </tr>\n  </tbody>\n</table>\n</div>"
     },
     "execution_count": 36,
     "metadata": {},
     "output_type": "execute_result"
    }
   ],
   "source": [
    "df = pd.read_excel(\"Data\\Copia di Parco mezzi autorimesse.xls\", sheet_name = \"dettaglio\")\n",
    "mask = (df[\"TIPOLOGIA INFOPMS\"] != 'CM4') & (df[\"TIPOLOGIA INFOPMS\"] != 'TS')\n",
    "df = df.loc[mask,:]\n",
    "\n",
    "dict_a = {\"C2\": 'COMP 2A',\"C3\": 'COMP 3A', \"CSL2\": 'COMP SIDE LOA 2A', \"CSL3\": 'COMP SIDE LOA 3A' }\n",
    "df = df.replace({\"TIPOLOGIA INFOPMS\": dict_a})\n",
    "\n",
    "dict2 = {\"AUT_RC\": \"AUTO_RC\", \"AUT_PM\": \"AUTO_PM\", \"AUT_ROM\": \"AUTO_AC\", \"AUT_SA\": \"AUTO_SA\", \"AUT_TP\": \"AUTO_TP\"}\n",
    "df = df.replace({\"UBICAZIONE\": dict2})\n",
    "groupby_dict = df.groupby(by = ([\"UBICAZIONE\",\"TIPOLOGIA INFOPMS\"]))[\"TARA\"].count().unstack().to_dict(orient='index')\n",
    "\n",
    "for key in groupby_dict.keys():\n",
    "    df_depot_internal.loc[key, \"vehicle\"] = str(groupby_dict[key])\n",
    "\n",
    "df_depot_internal"
   ],
   "metadata": {
    "collapsed": false,
    "pycharm": {
     "name": "#%%\n"
    }
   }
  },
  {
   "cell_type": "code",
   "execution_count": 37,
   "outputs": [
    {
     "data": {
      "text/plain": "                lat       long  \\\ndepot_id                         \nAUTO_AC   41.769924  12.323795   \nAUTO_PM   41.840815  12.327650   \nAUTO_RC   41.884943  12.695035   \nAUTO_SA   41.968841  12.505559   \nAUTO_TP   41.801046  12.493676   \n\n                                                    vehicle    M   P   N  \ndepot_id                                                                  \nAUTO_AC   {'COMP 2A': 14, 'COMP 3A': 14, 'COMP SIDE LOA ...   62  35  41  \nAUTO_PM   {'COMP 2A': 35, 'COMP 3A': 16, 'COMP SIDE LOA ...   81  44  54  \nAUTO_RC   {'COMP 2A': 31, 'COMP 3A': 27, 'COMP SIDE LOA ...  112  68  74  \nAUTO_SA   {'COMP 2A': 32, 'COMP 3A': 21, 'COMP SIDE LOA ...   85  55  52  \nAUTO_TP   {'COMP 2A': 29, 'COMP 3A': 28, 'COMP SIDE LOA ...   33  15  17  ",
      "text/html": "<div>\n<style scoped>\n    .dataframe tbody tr th:only-of-type {\n        vertical-align: middle;\n    }\n\n    .dataframe tbody tr th {\n        vertical-align: top;\n    }\n\n    .dataframe thead th {\n        text-align: right;\n    }\n</style>\n<table border=\"1\" class=\"dataframe\">\n  <thead>\n    <tr style=\"text-align: right;\">\n      <th></th>\n      <th>lat</th>\n      <th>long</th>\n      <th>vehicle</th>\n      <th>M</th>\n      <th>P</th>\n      <th>N</th>\n    </tr>\n    <tr>\n      <th>depot_id</th>\n      <th></th>\n      <th></th>\n      <th></th>\n      <th></th>\n      <th></th>\n      <th></th>\n    </tr>\n  </thead>\n  <tbody>\n    <tr>\n      <th>AUTO_AC</th>\n      <td>41.769924</td>\n      <td>12.323795</td>\n      <td>{'COMP 2A': 14, 'COMP 3A': 14, 'COMP SIDE LOA ...</td>\n      <td>62</td>\n      <td>35</td>\n      <td>41</td>\n    </tr>\n    <tr>\n      <th>AUTO_PM</th>\n      <td>41.840815</td>\n      <td>12.327650</td>\n      <td>{'COMP 2A': 35, 'COMP 3A': 16, 'COMP SIDE LOA ...</td>\n      <td>81</td>\n      <td>44</td>\n      <td>54</td>\n    </tr>\n    <tr>\n      <th>AUTO_RC</th>\n      <td>41.884943</td>\n      <td>12.695035</td>\n      <td>{'COMP 2A': 31, 'COMP 3A': 27, 'COMP SIDE LOA ...</td>\n      <td>112</td>\n      <td>68</td>\n      <td>74</td>\n    </tr>\n    <tr>\n      <th>AUTO_SA</th>\n      <td>41.968841</td>\n      <td>12.505559</td>\n      <td>{'COMP 2A': 32, 'COMP 3A': 21, 'COMP SIDE LOA ...</td>\n      <td>85</td>\n      <td>55</td>\n      <td>52</td>\n    </tr>\n    <tr>\n      <th>AUTO_TP</th>\n      <td>41.801046</td>\n      <td>12.493676</td>\n      <td>{'COMP 2A': 29, 'COMP 3A': 28, 'COMP SIDE LOA ...</td>\n      <td>33</td>\n      <td>15</td>\n      <td>17</td>\n    </tr>\n  </tbody>\n</table>\n</div>"
     },
     "execution_count": 37,
     "metadata": {},
     "output_type": "execute_result"
    }
   ],
   "source": [
    "df_operators = pd.read_excel(\"Data/Ulteriori informazioni servizi svolti dagli autocentri.xlsx\").iloc[49:54,1:4]\n",
    "df_operators.columns = [\"M\", \"P\", \"N\"]\n",
    "df_operators.index=depots\n",
    "df_depot_internal = df_depot_internal.merge(df_operators, left_index=True, right_index=True)\n",
    "df_depot_internal.index.name = \"depot_id\"\n",
    "df_depot_internal"
   ],
   "metadata": {
    "collapsed": false,
    "pycharm": {
     "name": "#%%\n"
    }
   }
  },
  {
   "cell_type": "markdown",
   "source": [
    "### colonne aggiunte per far girare il modello. Poi andranno eliminate"
   ],
   "metadata": {
    "collapsed": false,
    "pycharm": {
     "name": "#%% md\n"
    }
   }
  },
  {
   "cell_type": "markdown",
   "source": [
    "### colonne aggiunte per far girare il modello. Poi andranno eliminate"
   ],
   "metadata": {
    "collapsed": false,
    "pycharm": {
     "name": "#%% md\n"
    }
   }
  },
  {
   "cell_type": "code",
   "execution_count": 38,
   "outputs": [
    {
     "data": {
      "text/plain": "                lat       long  \\\ndepot_id                         \nAUTO_AC   41.769924  12.323795   \nAUTO_PM   41.840815  12.327650   \nAUTO_RC   41.884943  12.695035   \nAUTO_SA   41.968841  12.505559   \nAUTO_TP   41.801046  12.493676   \n\n                                                    vehicle    M   P   N  \\\ndepot_id                                                                   \nAUTO_AC   {'COMP 2A': 14, 'COMP 3A': 14, 'COMP SIDE LOA ...   62  35  41   \nAUTO_PM   {'COMP 2A': 35, 'COMP 3A': 16, 'COMP SIDE LOA ...   81  44  54   \nAUTO_RC   {'COMP 2A': 31, 'COMP 3A': 27, 'COMP SIDE LOA ...  112  68  74   \nAUTO_SA   {'COMP 2A': 32, 'COMP 3A': 21, 'COMP SIDE LOA ...   85  55  52   \nAUTO_TP   {'COMP 2A': 29, 'COMP 3A': 28, 'COMP SIDE LOA ...   33  15  17   \n\n         starting_t  ending_t  invest_cost  \ndepot_id                                    \nAUTO_AC    00:00:00  23:59:00            1  \nAUTO_PM    00:00:00  23:59:00            1  \nAUTO_RC    00:00:00  23:59:00            1  \nAUTO_SA    00:00:00  23:59:00            1  \nAUTO_TP    00:00:00  23:59:00            1  ",
      "text/html": "<div>\n<style scoped>\n    .dataframe tbody tr th:only-of-type {\n        vertical-align: middle;\n    }\n\n    .dataframe tbody tr th {\n        vertical-align: top;\n    }\n\n    .dataframe thead th {\n        text-align: right;\n    }\n</style>\n<table border=\"1\" class=\"dataframe\">\n  <thead>\n    <tr style=\"text-align: right;\">\n      <th></th>\n      <th>lat</th>\n      <th>long</th>\n      <th>vehicle</th>\n      <th>M</th>\n      <th>P</th>\n      <th>N</th>\n      <th>starting_t</th>\n      <th>ending_t</th>\n      <th>invest_cost</th>\n    </tr>\n    <tr>\n      <th>depot_id</th>\n      <th></th>\n      <th></th>\n      <th></th>\n      <th></th>\n      <th></th>\n      <th></th>\n      <th></th>\n      <th></th>\n      <th></th>\n    </tr>\n  </thead>\n  <tbody>\n    <tr>\n      <th>AUTO_AC</th>\n      <td>41.769924</td>\n      <td>12.323795</td>\n      <td>{'COMP 2A': 14, 'COMP 3A': 14, 'COMP SIDE LOA ...</td>\n      <td>62</td>\n      <td>35</td>\n      <td>41</td>\n      <td>00:00:00</td>\n      <td>23:59:00</td>\n      <td>1</td>\n    </tr>\n    <tr>\n      <th>AUTO_PM</th>\n      <td>41.840815</td>\n      <td>12.327650</td>\n      <td>{'COMP 2A': 35, 'COMP 3A': 16, 'COMP SIDE LOA ...</td>\n      <td>81</td>\n      <td>44</td>\n      <td>54</td>\n      <td>00:00:00</td>\n      <td>23:59:00</td>\n      <td>1</td>\n    </tr>\n    <tr>\n      <th>AUTO_RC</th>\n      <td>41.884943</td>\n      <td>12.695035</td>\n      <td>{'COMP 2A': 31, 'COMP 3A': 27, 'COMP SIDE LOA ...</td>\n      <td>112</td>\n      <td>68</td>\n      <td>74</td>\n      <td>00:00:00</td>\n      <td>23:59:00</td>\n      <td>1</td>\n    </tr>\n    <tr>\n      <th>AUTO_SA</th>\n      <td>41.968841</td>\n      <td>12.505559</td>\n      <td>{'COMP 2A': 32, 'COMP 3A': 21, 'COMP SIDE LOA ...</td>\n      <td>85</td>\n      <td>55</td>\n      <td>52</td>\n      <td>00:00:00</td>\n      <td>23:59:00</td>\n      <td>1</td>\n    </tr>\n    <tr>\n      <th>AUTO_TP</th>\n      <td>41.801046</td>\n      <td>12.493676</td>\n      <td>{'COMP 2A': 29, 'COMP 3A': 28, 'COMP SIDE LOA ...</td>\n      <td>33</td>\n      <td>15</td>\n      <td>17</td>\n      <td>00:00:00</td>\n      <td>23:59:00</td>\n      <td>1</td>\n    </tr>\n  </tbody>\n</table>\n</div>"
     },
     "execution_count": 38,
     "metadata": {},
     "output_type": "execute_result"
    }
   ],
   "source": [
    "df_depot_internal[\"starting_t\"] = \"00:00:00\"\n",
    "df_depot_internal[\"ending_t\"] = \"23:59:00\"\n",
    "df_depot_internal[\"invest_cost\"] = 1\n",
    "\n",
    "df_depot_internal"
   ],
   "metadata": {
    "collapsed": false,
    "pycharm": {
     "name": "#%%\n"
    }
   }
  },
  {
   "cell_type": "markdown",
   "source": [
    "Le colonne \"starting_t\"\t\"ending_t\"\t\"vehicle\"\t\"invest_cost\" mancano. Tempi di apertura e chiusura dell'impianto, tipo di veicoli e costo dell'impianto.\n",
    "\n",
    "Dovrei aggiungere anche tutti gli altri CDL?\n",
    "\n",
    "#### invest cost ci aspettiamo che arrivi\n"
   ],
   "metadata": {
    "collapsed": false,
    "pycharm": {
     "name": "#%% md\n"
    }
   }
  },
  {
   "cell_type": "markdown",
   "source": [
    "## Disposal\n",
    "#### L'obiettivo di questa sezione è partire dal file che ci ha inviato AMA e ottenere il foglio \"disposal\" uguale a quello che avevamo ipotizzato in fake_data"
   ],
   "metadata": {
    "collapsed": false,
    "pycharm": {
     "name": "#%% md\n"
    }
   }
  },
  {
   "cell_type": "code",
   "execution_count": 39,
   "outputs": [
    {
     "data": {
      "text/plain": "                         lat       long                    material  \\\ndisposal_id                                                           \nIMP_000166_0014    41.802696  12.481962            rifiuto rd umido   \nIMP_000018_0013    41.709850  12.587212            rifiuto rd carta   \nIMP_000004_0011    41.885298  12.696229     rifiuto indifferenziato   \nIMP_000024_0014    41.898921  12.191789            rifiuto rd umido   \nIMP_000179_0013    41.782925  12.605017            rifiuto rd carta   \nIMP_999107_0011    41.701756  12.543336     rifiuto indifferenziato   \nIMP_000189_0011    41.769605  12.323630     rifiuto indifferenziato   \nIMP_000176_0013    41.685706  12.502530            rifiuto rd carta   \nIMP_000009_0012    41.675215  12.532817   rifiuto rd multimateriale   \nIMP_000003_0012    41.885298  12.696229   rifiuto rd multimateriale   \nIMP_000050_0011    41.886428  12.694315     rifiuto indifferenziato   \nIMP_000050_0011_1  41.886428  12.694315     rifiuto indifferenziato   \nIMP_000017_0013    41.884590  12.698073            rifiuto rd carta   \nIMP_000026_0020    41.816944  12.593219  imballaggi carta e cartone   \nIMP_000016_0013    41.816944  12.593219            rifiuto rd carta   \nIMP_147947_0017    41.891817  12.623654        rifiuto compostabile   \nIMP_000010_0011    41.850860  12.332095     rifiuto indifferenziato   \n\n                   capacity(kg)  service_t  \ndisposal_id                                 \nIMP_000166_0014             NaN         20  \nIMP_000018_0013             NaN         20  \nIMP_000004_0011             NaN         20  \nIMP_000024_0014             NaN         20  \nIMP_000179_0013             NaN         20  \nIMP_999107_0011             NaN         20  \nIMP_000189_0011             NaN         20  \nIMP_000176_0013             NaN         20  \nIMP_000009_0012             NaN         20  \nIMP_000003_0012             NaN         20  \nIMP_000050_0011             NaN         20  \nIMP_000050_0011_1           NaN         20  \nIMP_000017_0013             NaN         20  \nIMP_000026_0020             NaN         20  \nIMP_000016_0013             NaN         20  \nIMP_147947_0017             NaN         20  \nIMP_000010_0011             NaN         20  ",
      "text/html": "<div>\n<style scoped>\n    .dataframe tbody tr th:only-of-type {\n        vertical-align: middle;\n    }\n\n    .dataframe tbody tr th {\n        vertical-align: top;\n    }\n\n    .dataframe thead th {\n        text-align: right;\n    }\n</style>\n<table border=\"1\" class=\"dataframe\">\n  <thead>\n    <tr style=\"text-align: right;\">\n      <th></th>\n      <th>lat</th>\n      <th>long</th>\n      <th>material</th>\n      <th>capacity(kg)</th>\n      <th>service_t</th>\n    </tr>\n    <tr>\n      <th>disposal_id</th>\n      <th></th>\n      <th></th>\n      <th></th>\n      <th></th>\n      <th></th>\n    </tr>\n  </thead>\n  <tbody>\n    <tr>\n      <th>IMP_000166_0014</th>\n      <td>41.802696</td>\n      <td>12.481962</td>\n      <td>rifiuto rd umido</td>\n      <td>NaN</td>\n      <td>20</td>\n    </tr>\n    <tr>\n      <th>IMP_000018_0013</th>\n      <td>41.709850</td>\n      <td>12.587212</td>\n      <td>rifiuto rd carta</td>\n      <td>NaN</td>\n      <td>20</td>\n    </tr>\n    <tr>\n      <th>IMP_000004_0011</th>\n      <td>41.885298</td>\n      <td>12.696229</td>\n      <td>rifiuto indifferenziato</td>\n      <td>NaN</td>\n      <td>20</td>\n    </tr>\n    <tr>\n      <th>IMP_000024_0014</th>\n      <td>41.898921</td>\n      <td>12.191789</td>\n      <td>rifiuto rd umido</td>\n      <td>NaN</td>\n      <td>20</td>\n    </tr>\n    <tr>\n      <th>IMP_000179_0013</th>\n      <td>41.782925</td>\n      <td>12.605017</td>\n      <td>rifiuto rd carta</td>\n      <td>NaN</td>\n      <td>20</td>\n    </tr>\n    <tr>\n      <th>IMP_999107_0011</th>\n      <td>41.701756</td>\n      <td>12.543336</td>\n      <td>rifiuto indifferenziato</td>\n      <td>NaN</td>\n      <td>20</td>\n    </tr>\n    <tr>\n      <th>IMP_000189_0011</th>\n      <td>41.769605</td>\n      <td>12.323630</td>\n      <td>rifiuto indifferenziato</td>\n      <td>NaN</td>\n      <td>20</td>\n    </tr>\n    <tr>\n      <th>IMP_000176_0013</th>\n      <td>41.685706</td>\n      <td>12.502530</td>\n      <td>rifiuto rd carta</td>\n      <td>NaN</td>\n      <td>20</td>\n    </tr>\n    <tr>\n      <th>IMP_000009_0012</th>\n      <td>41.675215</td>\n      <td>12.532817</td>\n      <td>rifiuto rd multimateriale</td>\n      <td>NaN</td>\n      <td>20</td>\n    </tr>\n    <tr>\n      <th>IMP_000003_0012</th>\n      <td>41.885298</td>\n      <td>12.696229</td>\n      <td>rifiuto rd multimateriale</td>\n      <td>NaN</td>\n      <td>20</td>\n    </tr>\n    <tr>\n      <th>IMP_000050_0011</th>\n      <td>41.886428</td>\n      <td>12.694315</td>\n      <td>rifiuto indifferenziato</td>\n      <td>NaN</td>\n      <td>20</td>\n    </tr>\n    <tr>\n      <th>IMP_000050_0011_1</th>\n      <td>41.886428</td>\n      <td>12.694315</td>\n      <td>rifiuto indifferenziato</td>\n      <td>NaN</td>\n      <td>20</td>\n    </tr>\n    <tr>\n      <th>IMP_000017_0013</th>\n      <td>41.884590</td>\n      <td>12.698073</td>\n      <td>rifiuto rd carta</td>\n      <td>NaN</td>\n      <td>20</td>\n    </tr>\n    <tr>\n      <th>IMP_000026_0020</th>\n      <td>41.816944</td>\n      <td>12.593219</td>\n      <td>imballaggi carta e cartone</td>\n      <td>NaN</td>\n      <td>20</td>\n    </tr>\n    <tr>\n      <th>IMP_000016_0013</th>\n      <td>41.816944</td>\n      <td>12.593219</td>\n      <td>rifiuto rd carta</td>\n      <td>NaN</td>\n      <td>20</td>\n    </tr>\n    <tr>\n      <th>IMP_147947_0017</th>\n      <td>41.891817</td>\n      <td>12.623654</td>\n      <td>rifiuto compostabile</td>\n      <td>NaN</td>\n      <td>20</td>\n    </tr>\n    <tr>\n      <th>IMP_000010_0011</th>\n      <td>41.850860</td>\n      <td>12.332095</td>\n      <td>rifiuto indifferenziato</td>\n      <td>NaN</td>\n      <td>20</td>\n    </tr>\n  </tbody>\n</table>\n</div>"
     },
     "execution_count": 39,
     "metadata": {},
     "output_type": "execute_result"
    }
   ],
   "source": [
    "df_disposal = pd.read_excel('Data/R12_Anagrafica_Servizi_Settimanale_PIPER.xlsx',sheet_name='Impianti', skiprows=1)\n",
    "\n",
    "dict_name_mapping = {\"COD_IMPIANTO\": \"disposal_id\", \"SHAPE.MINY\": \"lat\",\"SHAPE.MINX\": \"long\", \"FRAZIONE\":\"material\" , \"Capacità (tonnellate / giorno)\":\"capacity(kg)\", 'TEMPO DI STAZIONAMENTO IN IMPIANTO PER SCARICO\\n (min)': \"service_t\"}\n",
    "\n",
    "#df_disposal.columns\n",
    "df_disposal = df_disposal[[\"COD_IMPIANTO\",\"SHAPE.MINY\", \"SHAPE.MINX\", \"FRAZIONE\", \"Capacità (tonnellate / giorno)\", 'TEMPO DI STAZIONAMENTO IN IMPIANTO PER SCARICO\\n (min)', \"DESC_IMPIANTO\"]].rename(columns = dict_name_mapping)\n",
    "\n",
    "### elimino quelle di trasferenza o trasbordo\n",
    "filter1 = df_disposal[\"DESC_IMPIANTO\"].str.contains('TRASFERENZA')\n",
    "filter2 = df_disposal[\"DESC_IMPIANTO\"].str.contains('TRASBORDO')\n",
    "df_disposal_internal = df_disposal[~(filter1+filter2)].reset_index(drop = True).drop(columns = \"DESC_IMPIANTO\")\n",
    "df_disposal_internal[\"material\"] = df_disposal_internal[\"material\"].str.lower()\n",
    "df_disposal_internal = df_disposal_internal.set_index(\"disposal_id\")\n",
    "df_disposal_internal\n"
   ],
   "metadata": {
    "collapsed": false,
    "pycharm": {
     "name": "#%%\n"
    }
   }
  },
  {
   "cell_type": "markdown",
   "source": [
    "### colonne aggiunte per far girare il modello. Poi andranno eliminate"
   ],
   "metadata": {
    "collapsed": false,
    "pycharm": {
     "name": "#%% md\n"
    }
   }
  },
  {
   "cell_type": "code",
   "execution_count": 40,
   "metadata": {
    "pycharm": {
     "name": "#%%\n"
    }
   },
   "outputs": [
    {
     "data": {
      "text/plain": "                         lat       long                    material  \\\ndisposal_id                                                           \nIMP_000166_0014    41.802696  12.481962            rifiuto rd umido   \nIMP_000018_0013    41.709850  12.587212            rifiuto rd carta   \nIMP_000004_0011    41.885298  12.696229     rifiuto indifferenziato   \nIMP_000024_0014    41.898921  12.191789            rifiuto rd umido   \nIMP_000179_0013    41.782925  12.605017            rifiuto rd carta   \nIMP_999107_0011    41.701756  12.543336     rifiuto indifferenziato   \nIMP_000189_0011    41.769605  12.323630     rifiuto indifferenziato   \nIMP_000176_0013    41.685706  12.502530            rifiuto rd carta   \nIMP_000009_0012    41.675215  12.532817   rifiuto rd multimateriale   \nIMP_000003_0012    41.885298  12.696229   rifiuto rd multimateriale   \nIMP_000050_0011    41.886428  12.694315     rifiuto indifferenziato   \nIMP_000050_0011_1  41.886428  12.694315     rifiuto indifferenziato   \nIMP_000017_0013    41.884590  12.698073            rifiuto rd carta   \nIMP_000026_0020    41.816944  12.593219  imballaggi carta e cartone   \nIMP_000016_0013    41.816944  12.593219            rifiuto rd carta   \nIMP_147947_0017    41.891817  12.623654        rifiuto compostabile   \nIMP_000010_0011    41.850860  12.332095     rifiuto indifferenziato   \n\n                   capacity(kg)  service_t starting_t  ending_t  invest_cost  \\\ndisposal_id                                                                    \nIMP_000166_0014       300000000         20   00:00:00  23:59:00            1   \nIMP_000018_0013       300000000         20   00:00:00  23:59:00            1   \nIMP_000004_0011       300000000         20   00:00:00  23:59:00            1   \nIMP_000024_0014       300000000         20   00:00:00  23:59:00            1   \nIMP_000179_0013       300000000         20   00:00:00  23:59:00            1   \nIMP_999107_0011       300000000         20   00:00:00  23:59:00            1   \nIMP_000189_0011       300000000         20   00:00:00  23:59:00            1   \nIMP_000176_0013       300000000         20   00:00:00  23:59:00            1   \nIMP_000009_0012       300000000         20   00:00:00  23:59:00            1   \nIMP_000003_0012       300000000         20   00:00:00  23:59:00            1   \nIMP_000050_0011       300000000         20   00:00:00  23:59:00            1   \nIMP_000050_0011_1     300000000         20   00:00:00  23:59:00            1   \nIMP_000017_0013       300000000         20   00:00:00  23:59:00            1   \nIMP_000026_0020       300000000         20   00:00:00  23:59:00            1   \nIMP_000016_0013       300000000         20   00:00:00  23:59:00            1   \nIMP_147947_0017       300000000         20   00:00:00  23:59:00            1   \nIMP_000010_0011       300000000         20   00:00:00  23:59:00            1   \n\n                                                             vehicle  \ndisposal_id                                                           \nIMP_000166_0014    ['COMP 2A', 'COMP 3A', 'COMP SIDE LOA 2A', 'CO...  \nIMP_000018_0013    ['COMP 2A', 'COMP 3A', 'COMP SIDE LOA 2A', 'CO...  \nIMP_000004_0011    ['COMP 2A', 'COMP 3A', 'COMP SIDE LOA 2A', 'CO...  \nIMP_000024_0014    ['COMP 2A', 'COMP 3A', 'COMP SIDE LOA 2A', 'CO...  \nIMP_000179_0013    ['COMP 2A', 'COMP 3A', 'COMP SIDE LOA 2A', 'CO...  \nIMP_999107_0011    ['COMP 2A', 'COMP 3A', 'COMP SIDE LOA 2A', 'CO...  \nIMP_000189_0011    ['COMP 2A', 'COMP 3A', 'COMP SIDE LOA 2A', 'CO...  \nIMP_000176_0013    ['COMP 2A', 'COMP 3A', 'COMP SIDE LOA 2A', 'CO...  \nIMP_000009_0012    ['COMP 2A', 'COMP 3A', 'COMP SIDE LOA 2A', 'CO...  \nIMP_000003_0012    ['COMP 2A', 'COMP 3A', 'COMP SIDE LOA 2A', 'CO...  \nIMP_000050_0011    ['COMP 2A', 'COMP 3A', 'COMP SIDE LOA 2A', 'CO...  \nIMP_000050_0011_1  ['COMP 2A', 'COMP 3A', 'COMP SIDE LOA 2A', 'CO...  \nIMP_000017_0013    ['COMP 2A', 'COMP 3A', 'COMP SIDE LOA 2A', 'CO...  \nIMP_000026_0020    ['COMP 2A', 'COMP 3A', 'COMP SIDE LOA 2A', 'CO...  \nIMP_000016_0013    ['COMP 2A', 'COMP 3A', 'COMP SIDE LOA 2A', 'CO...  \nIMP_147947_0017    ['COMP 2A', 'COMP 3A', 'COMP SIDE LOA 2A', 'CO...  \nIMP_000010_0011    ['COMP 2A', 'COMP 3A', 'COMP SIDE LOA 2A', 'CO...  ",
      "text/html": "<div>\n<style scoped>\n    .dataframe tbody tr th:only-of-type {\n        vertical-align: middle;\n    }\n\n    .dataframe tbody tr th {\n        vertical-align: top;\n    }\n\n    .dataframe thead th {\n        text-align: right;\n    }\n</style>\n<table border=\"1\" class=\"dataframe\">\n  <thead>\n    <tr style=\"text-align: right;\">\n      <th></th>\n      <th>lat</th>\n      <th>long</th>\n      <th>material</th>\n      <th>capacity(kg)</th>\n      <th>service_t</th>\n      <th>starting_t</th>\n      <th>ending_t</th>\n      <th>invest_cost</th>\n      <th>vehicle</th>\n    </tr>\n    <tr>\n      <th>disposal_id</th>\n      <th></th>\n      <th></th>\n      <th></th>\n      <th></th>\n      <th></th>\n      <th></th>\n      <th></th>\n      <th></th>\n      <th></th>\n    </tr>\n  </thead>\n  <tbody>\n    <tr>\n      <th>IMP_000166_0014</th>\n      <td>41.802696</td>\n      <td>12.481962</td>\n      <td>rifiuto rd umido</td>\n      <td>300000000</td>\n      <td>20</td>\n      <td>00:00:00</td>\n      <td>23:59:00</td>\n      <td>1</td>\n      <td>['COMP 2A', 'COMP 3A', 'COMP SIDE LOA 2A', 'CO...</td>\n    </tr>\n    <tr>\n      <th>IMP_000018_0013</th>\n      <td>41.709850</td>\n      <td>12.587212</td>\n      <td>rifiuto rd carta</td>\n      <td>300000000</td>\n      <td>20</td>\n      <td>00:00:00</td>\n      <td>23:59:00</td>\n      <td>1</td>\n      <td>['COMP 2A', 'COMP 3A', 'COMP SIDE LOA 2A', 'CO...</td>\n    </tr>\n    <tr>\n      <th>IMP_000004_0011</th>\n      <td>41.885298</td>\n      <td>12.696229</td>\n      <td>rifiuto indifferenziato</td>\n      <td>300000000</td>\n      <td>20</td>\n      <td>00:00:00</td>\n      <td>23:59:00</td>\n      <td>1</td>\n      <td>['COMP 2A', 'COMP 3A', 'COMP SIDE LOA 2A', 'CO...</td>\n    </tr>\n    <tr>\n      <th>IMP_000024_0014</th>\n      <td>41.898921</td>\n      <td>12.191789</td>\n      <td>rifiuto rd umido</td>\n      <td>300000000</td>\n      <td>20</td>\n      <td>00:00:00</td>\n      <td>23:59:00</td>\n      <td>1</td>\n      <td>['COMP 2A', 'COMP 3A', 'COMP SIDE LOA 2A', 'CO...</td>\n    </tr>\n    <tr>\n      <th>IMP_000179_0013</th>\n      <td>41.782925</td>\n      <td>12.605017</td>\n      <td>rifiuto rd carta</td>\n      <td>300000000</td>\n      <td>20</td>\n      <td>00:00:00</td>\n      <td>23:59:00</td>\n      <td>1</td>\n      <td>['COMP 2A', 'COMP 3A', 'COMP SIDE LOA 2A', 'CO...</td>\n    </tr>\n    <tr>\n      <th>IMP_999107_0011</th>\n      <td>41.701756</td>\n      <td>12.543336</td>\n      <td>rifiuto indifferenziato</td>\n      <td>300000000</td>\n      <td>20</td>\n      <td>00:00:00</td>\n      <td>23:59:00</td>\n      <td>1</td>\n      <td>['COMP 2A', 'COMP 3A', 'COMP SIDE LOA 2A', 'CO...</td>\n    </tr>\n    <tr>\n      <th>IMP_000189_0011</th>\n      <td>41.769605</td>\n      <td>12.323630</td>\n      <td>rifiuto indifferenziato</td>\n      <td>300000000</td>\n      <td>20</td>\n      <td>00:00:00</td>\n      <td>23:59:00</td>\n      <td>1</td>\n      <td>['COMP 2A', 'COMP 3A', 'COMP SIDE LOA 2A', 'CO...</td>\n    </tr>\n    <tr>\n      <th>IMP_000176_0013</th>\n      <td>41.685706</td>\n      <td>12.502530</td>\n      <td>rifiuto rd carta</td>\n      <td>300000000</td>\n      <td>20</td>\n      <td>00:00:00</td>\n      <td>23:59:00</td>\n      <td>1</td>\n      <td>['COMP 2A', 'COMP 3A', 'COMP SIDE LOA 2A', 'CO...</td>\n    </tr>\n    <tr>\n      <th>IMP_000009_0012</th>\n      <td>41.675215</td>\n      <td>12.532817</td>\n      <td>rifiuto rd multimateriale</td>\n      <td>300000000</td>\n      <td>20</td>\n      <td>00:00:00</td>\n      <td>23:59:00</td>\n      <td>1</td>\n      <td>['COMP 2A', 'COMP 3A', 'COMP SIDE LOA 2A', 'CO...</td>\n    </tr>\n    <tr>\n      <th>IMP_000003_0012</th>\n      <td>41.885298</td>\n      <td>12.696229</td>\n      <td>rifiuto rd multimateriale</td>\n      <td>300000000</td>\n      <td>20</td>\n      <td>00:00:00</td>\n      <td>23:59:00</td>\n      <td>1</td>\n      <td>['COMP 2A', 'COMP 3A', 'COMP SIDE LOA 2A', 'CO...</td>\n    </tr>\n    <tr>\n      <th>IMP_000050_0011</th>\n      <td>41.886428</td>\n      <td>12.694315</td>\n      <td>rifiuto indifferenziato</td>\n      <td>300000000</td>\n      <td>20</td>\n      <td>00:00:00</td>\n      <td>23:59:00</td>\n      <td>1</td>\n      <td>['COMP 2A', 'COMP 3A', 'COMP SIDE LOA 2A', 'CO...</td>\n    </tr>\n    <tr>\n      <th>IMP_000050_0011_1</th>\n      <td>41.886428</td>\n      <td>12.694315</td>\n      <td>rifiuto indifferenziato</td>\n      <td>300000000</td>\n      <td>20</td>\n      <td>00:00:00</td>\n      <td>23:59:00</td>\n      <td>1</td>\n      <td>['COMP 2A', 'COMP 3A', 'COMP SIDE LOA 2A', 'CO...</td>\n    </tr>\n    <tr>\n      <th>IMP_000017_0013</th>\n      <td>41.884590</td>\n      <td>12.698073</td>\n      <td>rifiuto rd carta</td>\n      <td>300000000</td>\n      <td>20</td>\n      <td>00:00:00</td>\n      <td>23:59:00</td>\n      <td>1</td>\n      <td>['COMP 2A', 'COMP 3A', 'COMP SIDE LOA 2A', 'CO...</td>\n    </tr>\n    <tr>\n      <th>IMP_000026_0020</th>\n      <td>41.816944</td>\n      <td>12.593219</td>\n      <td>imballaggi carta e cartone</td>\n      <td>300000000</td>\n      <td>20</td>\n      <td>00:00:00</td>\n      <td>23:59:00</td>\n      <td>1</td>\n      <td>['COMP 2A', 'COMP 3A', 'COMP SIDE LOA 2A', 'CO...</td>\n    </tr>\n    <tr>\n      <th>IMP_000016_0013</th>\n      <td>41.816944</td>\n      <td>12.593219</td>\n      <td>rifiuto rd carta</td>\n      <td>300000000</td>\n      <td>20</td>\n      <td>00:00:00</td>\n      <td>23:59:00</td>\n      <td>1</td>\n      <td>['COMP 2A', 'COMP 3A', 'COMP SIDE LOA 2A', 'CO...</td>\n    </tr>\n    <tr>\n      <th>IMP_147947_0017</th>\n      <td>41.891817</td>\n      <td>12.623654</td>\n      <td>rifiuto compostabile</td>\n      <td>300000000</td>\n      <td>20</td>\n      <td>00:00:00</td>\n      <td>23:59:00</td>\n      <td>1</td>\n      <td>['COMP 2A', 'COMP 3A', 'COMP SIDE LOA 2A', 'CO...</td>\n    </tr>\n    <tr>\n      <th>IMP_000010_0011</th>\n      <td>41.850860</td>\n      <td>12.332095</td>\n      <td>rifiuto indifferenziato</td>\n      <td>300000000</td>\n      <td>20</td>\n      <td>00:00:00</td>\n      <td>23:59:00</td>\n      <td>1</td>\n      <td>['COMP 2A', 'COMP 3A', 'COMP SIDE LOA 2A', 'CO...</td>\n    </tr>\n  </tbody>\n</table>\n</div>"
     },
     "execution_count": 40,
     "metadata": {},
     "output_type": "execute_result"
    }
   ],
   "source": [
    "df_disposal_internal[\"starting_t\"] = \"00:00:00\"\n",
    "df_disposal_internal[\"ending_t\"] = \"23:59:00\"\n",
    "df_disposal_internal[\"invest_cost\"] = 1\n",
    "\n",
    "vehicle_list = [\"COMP 2A\", \"COMP 3A\", \"COMP SIDE LOA 2A\", \"COMP SIDE LOA 3A\"]   #lista dei veicoli che possono conferire al disposal\n",
    "df_disposal_internal[\"vehicle\"] = str(vehicle_list)\n",
    "df_disposal_internal[\"capacity(kg)\"] = 300*10**6\n",
    "df_disposal_internal\n"
   ]
  },
  {
   "cell_type": "markdown",
   "metadata": {
    "pycharm": {
     "name": "#%% md\n"
    }
   },
   "source": [
    "all'interno dei loro file mancano \n",
    "\"starting_t\", \"ending_t\", \"invest_cost\", \"vehicle\". \n",
    "\n",
    "E' giusto assumere che soltanto alcuni veicoli possano recarsi nei centri di smaltimento? Abbiamo bisogno di sapere per ogni impianto (normale o transhipment che sia) quali impianti possono andarci\n",
    "\n",
    "\"quantity\" a oggi è nulla; è la capacità, giusto?\n",
    "\n",
    "#### fondamentali per modello: quantity\n"
   ]
  },
  {
   "cell_type": "markdown",
   "metadata": {
    "pycharm": {
     "name": "#%% md\n"
    }
   },
   "source": [
    "## Transhipment \n",
    "#### L'obiettivo di questa sezione è partire dal file che ci ha inviato AMA e ottenere il foglio \"transhipment\" uguale a quello che avevamo ipotizzato in fake_data"
   ]
  },
  {
   "cell_type": "code",
   "execution_count": 41,
   "metadata": {
    "pycharm": {
     "name": "#%%\n"
    }
   },
   "outputs": [
    {
     "data": {
      "text/plain": "                       lat       long                   material  \\\ntranshipment_id                                                    \nIMP_000051_0011  41.885298  12.696229    rifiuto indifferenziato   \nIMP_000222_0011  41.975417  12.496581    rifiuto indifferenziato   \nIMP_000178_0018  41.842214  12.330228            farmaci scaduti   \nIMP_000015_0012  41.842214  12.330228  rifiuto rd multimateriale   \n\n                 capacity(kg)  service_t  \ntranshipment_id                           \nIMP_000051_0011           NaN         20  \nIMP_000222_0011           NaN         20  \nIMP_000178_0018           NaN         20  \nIMP_000015_0012           NaN         20  ",
      "text/html": "<div>\n<style scoped>\n    .dataframe tbody tr th:only-of-type {\n        vertical-align: middle;\n    }\n\n    .dataframe tbody tr th {\n        vertical-align: top;\n    }\n\n    .dataframe thead th {\n        text-align: right;\n    }\n</style>\n<table border=\"1\" class=\"dataframe\">\n  <thead>\n    <tr style=\"text-align: right;\">\n      <th></th>\n      <th>lat</th>\n      <th>long</th>\n      <th>material</th>\n      <th>capacity(kg)</th>\n      <th>service_t</th>\n    </tr>\n    <tr>\n      <th>transhipment_id</th>\n      <th></th>\n      <th></th>\n      <th></th>\n      <th></th>\n      <th></th>\n    </tr>\n  </thead>\n  <tbody>\n    <tr>\n      <th>IMP_000051_0011</th>\n      <td>41.885298</td>\n      <td>12.696229</td>\n      <td>rifiuto indifferenziato</td>\n      <td>NaN</td>\n      <td>20</td>\n    </tr>\n    <tr>\n      <th>IMP_000222_0011</th>\n      <td>41.975417</td>\n      <td>12.496581</td>\n      <td>rifiuto indifferenziato</td>\n      <td>NaN</td>\n      <td>20</td>\n    </tr>\n    <tr>\n      <th>IMP_000178_0018</th>\n      <td>41.842214</td>\n      <td>12.330228</td>\n      <td>farmaci scaduti</td>\n      <td>NaN</td>\n      <td>20</td>\n    </tr>\n    <tr>\n      <th>IMP_000015_0012</th>\n      <td>41.842214</td>\n      <td>12.330228</td>\n      <td>rifiuto rd multimateriale</td>\n      <td>NaN</td>\n      <td>20</td>\n    </tr>\n  </tbody>\n</table>\n</div>"
     },
     "execution_count": 41,
     "metadata": {},
     "output_type": "execute_result"
    }
   ],
   "source": [
    "df_transhipment_internal = df_disposal[(filter1+filter2)].reset_index(drop = True).drop(columns = \"DESC_IMPIANTO\").rename(columns = {\"disposal_id\": \"transhipment_id\"})\n",
    "df_transhipment_internal[\"material\"] = df_transhipment_internal[\"material\"].str.lower()\n",
    "\n",
    "df_transhipment_internal = df_transhipment_internal.set_index(\"transhipment_id\")\n",
    "df_transhipment_internal"
   ]
  },
  {
   "cell_type": "markdown",
   "metadata": {
    "pycharm": {
     "name": "#%% md\n"
    }
   },
   "source": [
    "### colonne aggiunte per far girare il modello. Poi andranno eliminate"
   ]
  },
  {
   "cell_type": "code",
   "execution_count": 42,
   "metadata": {
    "pycharm": {
     "name": "#%%\n"
    }
   },
   "outputs": [
    {
     "data": {
      "text/plain": "                       lat       long                   material  \\\ntranshipment_id                                                    \nIMP_000051_0011  41.885298  12.696229    rifiuto indifferenziato   \nIMP_000222_0011  41.975417  12.496581    rifiuto indifferenziato   \nIMP_000178_0018  41.842214  12.330228            farmaci scaduti   \nIMP_000015_0012  41.842214  12.330228  rifiuto rd multimateriale   \n\n                 capacity(kg)  service_t starting_t  ending_t  invest_cost  \\\ntranshipment_id                                                              \nIMP_000051_0011        100000         20   00:00:00  23:59:00            1   \nIMP_000222_0011        100000         20   00:00:00  23:59:00            1   \nIMP_000178_0018        100000         20   00:00:00  23:59:00            1   \nIMP_000015_0012        100000         20   00:00:00  23:59:00            1   \n\n                                                           vehicle  \ntranshipment_id                                                     \nIMP_000051_0011  ['COMP 2A', 'COMP 3A', 'COMP SIDE LOA 2A', 'CO...  \nIMP_000222_0011  ['COMP 2A', 'COMP 3A', 'COMP SIDE LOA 2A', 'CO...  \nIMP_000178_0018  ['COMP 2A', 'COMP 3A', 'COMP SIDE LOA 2A', 'CO...  \nIMP_000015_0012  ['COMP 2A', 'COMP 3A', 'COMP SIDE LOA 2A', 'CO...  ",
      "text/html": "<div>\n<style scoped>\n    .dataframe tbody tr th:only-of-type {\n        vertical-align: middle;\n    }\n\n    .dataframe tbody tr th {\n        vertical-align: top;\n    }\n\n    .dataframe thead th {\n        text-align: right;\n    }\n</style>\n<table border=\"1\" class=\"dataframe\">\n  <thead>\n    <tr style=\"text-align: right;\">\n      <th></th>\n      <th>lat</th>\n      <th>long</th>\n      <th>material</th>\n      <th>capacity(kg)</th>\n      <th>service_t</th>\n      <th>starting_t</th>\n      <th>ending_t</th>\n      <th>invest_cost</th>\n      <th>vehicle</th>\n    </tr>\n    <tr>\n      <th>transhipment_id</th>\n      <th></th>\n      <th></th>\n      <th></th>\n      <th></th>\n      <th></th>\n      <th></th>\n      <th></th>\n      <th></th>\n      <th></th>\n    </tr>\n  </thead>\n  <tbody>\n    <tr>\n      <th>IMP_000051_0011</th>\n      <td>41.885298</td>\n      <td>12.696229</td>\n      <td>rifiuto indifferenziato</td>\n      <td>100000</td>\n      <td>20</td>\n      <td>00:00:00</td>\n      <td>23:59:00</td>\n      <td>1</td>\n      <td>['COMP 2A', 'COMP 3A', 'COMP SIDE LOA 2A', 'CO...</td>\n    </tr>\n    <tr>\n      <th>IMP_000222_0011</th>\n      <td>41.975417</td>\n      <td>12.496581</td>\n      <td>rifiuto indifferenziato</td>\n      <td>100000</td>\n      <td>20</td>\n      <td>00:00:00</td>\n      <td>23:59:00</td>\n      <td>1</td>\n      <td>['COMP 2A', 'COMP 3A', 'COMP SIDE LOA 2A', 'CO...</td>\n    </tr>\n    <tr>\n      <th>IMP_000178_0018</th>\n      <td>41.842214</td>\n      <td>12.330228</td>\n      <td>farmaci scaduti</td>\n      <td>100000</td>\n      <td>20</td>\n      <td>00:00:00</td>\n      <td>23:59:00</td>\n      <td>1</td>\n      <td>['COMP 2A', 'COMP 3A', 'COMP SIDE LOA 2A', 'CO...</td>\n    </tr>\n    <tr>\n      <th>IMP_000015_0012</th>\n      <td>41.842214</td>\n      <td>12.330228</td>\n      <td>rifiuto rd multimateriale</td>\n      <td>100000</td>\n      <td>20</td>\n      <td>00:00:00</td>\n      <td>23:59:00</td>\n      <td>1</td>\n      <td>['COMP 2A', 'COMP 3A', 'COMP SIDE LOA 2A', 'CO...</td>\n    </tr>\n  </tbody>\n</table>\n</div>"
     },
     "execution_count": 42,
     "metadata": {},
     "output_type": "execute_result"
    }
   ],
   "source": [
    "df_transhipment_internal[\"starting_t\"] = \"00:00:00\"\n",
    "df_transhipment_internal[\"ending_t\"] = \"23:59:00\"\n",
    "df_transhipment_internal[\"invest_cost\"] = 1\n",
    "\n",
    "vehicle_list = [\"COMP 2A\", \"COMP 3A\", \"COMP SIDE LOA 2A\", \"COMP SIDE LOA 3A\"]   #lista dei veicoli che possono conferire al disposal\n",
    "df_transhipment_internal[\"vehicle\"] = str(vehicle_list)\n",
    "\n",
    "df_transhipment_internal[\"capacity(kg)\"] = 100000\n",
    "df_transhipment_internal"
   ]
  },
  {
   "cell_type": "markdown",
   "metadata": {
    "pycharm": {
     "name": "#%% md\n"
    }
   },
   "source": [
    "**vedi cose mancanti sopra**"
   ]
  },
  {
   "cell_type": "markdown",
   "metadata": {
    "pycharm": {
     "name": "#%% md\n"
    }
   },
   "source": [
    "## VEHICLE\n",
    "\n",
    "in particolare i campi *vehicle\ttype\tdepot\tstorage_cap\tmax_time\tmax_dist*"
   ]
  },
  {
   "cell_type": "code",
   "execution_count": 43,
   "metadata": {
    "pycharm": {
     "name": "#%%\n"
    }
   },
   "outputs": [
    {
     "data": {
      "text/plain": "               type  storage_cap_volume(m3)  storage_cap_weight(kg)  max_time\n0           COMP 2A                      10                    3500       480\n1           COMP 3A                      22                   12500       480\n2  COMP SIDE LOA 2A                      15                    4500       480\n3  COMP SIDE LOA 3A                      25                    9000       480",
      "text/html": "<div>\n<style scoped>\n    .dataframe tbody tr th:only-of-type {\n        vertical-align: middle;\n    }\n\n    .dataframe tbody tr th {\n        vertical-align: top;\n    }\n\n    .dataframe thead th {\n        text-align: right;\n    }\n</style>\n<table border=\"1\" class=\"dataframe\">\n  <thead>\n    <tr style=\"text-align: right;\">\n      <th></th>\n      <th>type</th>\n      <th>storage_cap_volume(m3)</th>\n      <th>storage_cap_weight(kg)</th>\n      <th>max_time</th>\n    </tr>\n  </thead>\n  <tbody>\n    <tr>\n      <th>0</th>\n      <td>COMP 2A</td>\n      <td>10</td>\n      <td>3500</td>\n      <td>480</td>\n    </tr>\n    <tr>\n      <th>1</th>\n      <td>COMP 3A</td>\n      <td>22</td>\n      <td>12500</td>\n      <td>480</td>\n    </tr>\n    <tr>\n      <th>2</th>\n      <td>COMP SIDE LOA 2A</td>\n      <td>15</td>\n      <td>4500</td>\n      <td>480</td>\n    </tr>\n    <tr>\n      <th>3</th>\n      <td>COMP SIDE LOA 3A</td>\n      <td>25</td>\n      <td>9000</td>\n      <td>480</td>\n    </tr>\n  </tbody>\n</table>\n</div>"
     },
     "execution_count": 43,
     "metadata": {},
     "output_type": "execute_result"
    }
   ],
   "source": [
    "#df_vehicle = pd.read_excel('Data/Copia di Parco mezzi autorimesse.xls',sheet_name='Impianti', skiprows=1)\n",
    "#df_vehicle_AMA = pd.read_excel(\"Data\\Copia di Parco mezzi autorimesse.xls\", sheet_name = \"caratteristiche veicoli\")\n",
    "\n",
    "\n",
    "# df_vehicle[\"type\"] = \n",
    "\n",
    "df_vehicle_internal = pd.DataFrame({\"type\": [\"COMP 2A\", \"COMP 3A\", \"COMP SIDE LOA 2A\", \"COMP SIDE LOA 3A\"]})\n",
    "df_vehicle_internal[\"storage_cap_volume(m3)\"] = [10, 22, 15,25]\n",
    "df_vehicle_internal[\"storage_cap_weight(kg)\"] = [3500, 12500, 4500,9000]\n",
    "df_vehicle_internal[\"max_time\"] = 480\n",
    "df_vehicle_internal\n",
    "\n"
   ]
  },
  {
   "cell_type": "code",
   "execution_count": 44,
   "metadata": {
    "pycharm": {
     "name": "#%%\n"
    }
   },
   "outputs": [],
   "source": [
    "# dict_name_mapping = {\"COD_IMPIANTO\": \"disposal_id\", \"SHAPE.MINY\": \"lat\",\"SHAPE.MINX\": \"long\", \"FRAZIONE\":\"material\" , \"Capacità (tonnellate / giorno)\":\"quantity\", 'TEMPO DI STAZIONAMENTO IN IMPIANTO PER SCARICO\\n (min)': \"service_t\"} \n",
    "\n",
    "# #df_disposal.columns\n",
    "# df_disposal = df_disposal[[\"COD_IMPIANTO\",\"SHAPE.MINY\", \"SHAPE.MINX\", \"FRAZIONE\", \"Capacità (tonnellate / giorno)\", 'TEMPO DI STAZIONAMENTO IN IMPIANTO PER SCARICO\\n (min)', \"DESC_IMPIANTO\"]].rename(columns = dict_name_mapping)\n",
    "\n",
    "# ### elimino quelle di trasferenza o trasbordo\n",
    "# filter1 = df_disposal[\"DESC_IMPIANTO\"].str.contains('TRASFERENZA')\n",
    "# filter2 = df_disposal[\"DESC_IMPIANTO\"].str.contains('TRASBORDO')\n",
    "# df_disposal_internal = df_disposal[~(filter1+filter2)].reset_index(drop = True).drop(columns = \"DESC_IMPIANTO\")\n",
    "# df_disposal_internal[\"material\"] = df_disposal_internal[\"material\"].str.lower()\n",
    "# df_disposal_internal = df_disposal_internal.set_index(\"disposal_id\")\n",
    "# df_disposal_internal"
   ]
  },
  {
   "cell_type": "code",
   "execution_count": 45,
   "metadata": {
    "pycharm": {
     "name": "#%%\n"
    }
   },
   "outputs": [],
   "source": [
    "df_facilities_internal = pd.concat((df_disposal_internal, df_transhipment_internal), axis = 0)  #concatenation of the two df\n",
    "df_facilities_internal.index.names = [\"facility_id\"]\n"
   ]
  },
  {
   "cell_type": "markdown",
   "metadata": {
    "pycharm": {
     "name": "#%% md\n"
    }
   },
   "source": [
    "###  Save files"
   ]
  },
  {
   "cell_type": "code",
   "execution_count": 46,
   "metadata": {
    "pycharm": {
     "name": "#%%\n"
    }
   },
   "outputs": [
    {
     "name": "stderr",
     "output_type": "stream",
     "text": [
      "C:\\Users\\moden\\AppData\\Local\\Temp\\ipykernel_13136\\3932720786.py:12: FutureWarning: save is not part of the public API, usage can give unexpected results and will be removed in a future version\n",
      "  writer.save()\n"
     ]
    }
   ],
   "source": [
    "writer = pd.ExcelWriter('data/real_data.xlsx', engine='xlsxwriter')\n",
    "\n",
    "# Write each dataframe to a different worksheet.\n",
    "df_service_internal.to_excel(writer, sheet_name='Service')\n",
    "df_depot_internal.to_excel(writer, sheet_name='Depot')\n",
    "df_disposal_internal.to_excel(writer, sheet_name='Disposal')\n",
    "df_transhipment_internal.to_excel(writer, sheet_name='Transship')\n",
    "df_facilities_internal.to_excel(writer, sheet_name='Facility')\n",
    "df_vehicle_internal.to_excel(writer, sheet_name = 'Vehicle')\n",
    "\n",
    "# Close the Pandas Excel writer and output the Excel file.\n",
    "writer.save()"
   ]
  },
  {
   "cell_type": "markdown",
   "metadata": {
    "pycharm": {
     "name": "#%% md\n"
    }
   },
   "source": [
    "# Note:\n",
    "dentro fake data, il foglio transhipment ha come index *transhipment*, mentre ora abbiamo *transhipment id*"
   ]
  },
  {
   "cell_type": "markdown",
   "metadata": {
    "pycharm": {
     "name": "#%% md\n"
    }
   },
   "source": [
    "## Create AMA capacity for the AMA-based scenario"
   ]
  },
  {
   "cell_type": "code",
   "execution_count": 157,
   "metadata": {
    "pycharm": {
     "name": "#%%\n"
    }
   },
   "outputs": [],
   "source": [
    "df_real = pd.read_excel(\"Data/real_data.xlsx\", sheet_name= \"Service\", index_col=0)\n",
    "df_disposals = pd.read_excel(\"Data/real_data.xlsx\", sheet_name= \"Disposal\", index_col=0)\n",
    "df_transships = pd.read_excel(\"Data/real_data.xlsx\", sheet_name= \"Transship\", index_col=0)\n",
    "df_facilities = pd.concat([df_disposals,df_transships])\n",
    "df_facilities.index.name = \"facility_id\""
   ]
  },
  {
   "cell_type": "code",
   "execution_count": 158,
   "metadata": {
    "pycharm": {
     "name": "#%%\n"
    }
   },
   "outputs": [],
   "source": [
    "dic_capacity = dict(zip(list(df_facilities.index), [0]*len(df_facilities.index) ))"
   ]
  },
  {
   "cell_type": "code",
   "execution_count": 159,
   "metadata": {
    "pycharm": {
     "name": "#%%\n"
    }
   },
   "outputs": [],
   "source": [
    "for day_of_the_week in days:\n",
    "    df_real_day = df_real[df_real[day_of_the_week].notna()]\n",
    "    df_ama_solution = df_real_day[[\"service_id\", \"material\",\"AMA_facility_id\", \"quantity(kg)\"]].rename(columns = {\"AMA_facility_id\":\"facility_id\", \"quantity(kg)\":\"service_quantity(kg)\"})\n",
    "    ## df_facility_results: kg and number of services per facility\n",
    "    df_total_kg_per_facility = df_ama_solution.groupby(\"facility_id\").agg(total_kg = (\"service_quantity(kg)\", \"sum\")).round(1)## Add 15% to the capacity and export dataframe\n",
    "    for ind in df_total_kg_per_facility.index:\n",
    "        dic_capacity[ind] = max(dic_capacity[ind], df_total_kg_per_facility.loc[ind, \"total_kg\"])\n",
    "        \n",
    "    "
   ]
  },
  {
   "cell_type": "code",
   "execution_count": 160,
   "metadata": {
    "pycharm": {
     "name": "#%%\n"
    }
   },
   "outputs": [],
   "source": [
    "data = {'facility_id': dic_capacity.keys(), 'total_kg': dic_capacity.values()}\n",
    "df_capacity = pd.DataFrame.from_dict(data).set_index(\"facility_id\", drop = True)\n",
    "df_capacity['T_or_D'] = 'D'\n",
    "for ind in df_transships.index:\n",
    "    df_capacity.loc[ind, \"T_or_D\"] = \"T\""
   ]
  },
  {
   "cell_type": "code",
   "execution_count": 161,
   "outputs": [
    {
     "data": {
      "text/plain": "(facility_id\n IMP_000166_0014       True\n IMP_000018_0013       True\n IMP_000004_0011       True\n IMP_000024_0014       True\n IMP_000179_0013       True\n IMP_999107_0011       True\n IMP_000189_0011       True\n IMP_000176_0013       True\n IMP_000009_0012       True\n IMP_000003_0012       True\n IMP_000050_0011       True\n IMP_000050_0011_1     True\n IMP_000017_0013       True\n IMP_000026_0020       True\n IMP_000016_0013       True\n IMP_147947_0017       True\n IMP_000010_0011       True\n IMP_000051_0011      False\n IMP_000222_0011      False\n IMP_000178_0018      False\n IMP_000015_0012      False\n Name: T_or_D, dtype: bool,\n 'capacity')"
     },
     "execution_count": 161,
     "metadata": {},
     "output_type": "execute_result"
    }
   ],
   "source": [
    "df_capacity[\"T_or_D\"]==\"D\", \"capacity\""
   ],
   "metadata": {
    "collapsed": false,
    "pycharm": {
     "name": "#%%\n"
    }
   }
  },
  {
   "cell_type": "code",
   "execution_count": 162,
   "metadata": {
    "pycharm": {
     "name": "#%%\n"
    }
   },
   "outputs": [],
   "source": [
    "# mean_capacity_T=df_capacity[df_capacity[\"T_or_D\"]==\"T\"][\"capacity\"].max()\n",
    "# mean_capacity_D=df_capacity[df_capacity[\"T_or_D\"]==\"D\"][\"capacity\"].max()\n",
    "\n",
    "# df_capacity.loc[(df_capacity['capacity']== 0) &(df_capacity['T_or_D']== \"D\"), \"capacity\"]= mean_capacity_D\n",
    "# df_capacity.loc[(df_capacity['capacity']== 0) &(df_capacity['T_or_D']== \"T\"), \"capacity\"]= mean_capacity_T"
   ]
  },
  {
   "cell_type": "code",
   "execution_count": 163,
   "outputs": [],
   "source": [
    "df_capacity.to_excel(\"Data/df_AMA_capacity_max_day.xlsx\", sheet_name='Capacity', engine='xlsxwriter')"
   ],
   "metadata": {
    "collapsed": false,
    "pycharm": {
     "name": "#%%\n"
    }
   }
  },
  {
   "cell_type": "code",
   "execution_count": null,
   "outputs": [],
   "source": [],
   "metadata": {
    "collapsed": false,
    "pycharm": {
     "name": "#%%\n"
    }
   }
  }
 ],
 "metadata": {
  "kernelspec": {
   "display_name": "Python 3.8.10 ('gurobiEnv')",
   "language": "python",
   "name": "python3"
  },
  "language_info": {
   "codemirror_mode": {
    "name": "ipython",
    "version": 3
   },
   "file_extension": ".py",
   "mimetype": "text/x-python",
   "name": "python",
   "nbconvert_exporter": "python",
   "pygments_lexer": "ipython3",
   "version": "3.8.10"
  },
  "orig_nbformat": 4,
  "vscode": {
   "interpreter": {
    "hash": "4953b0b1b806a8c72f3b07adb988e5f293e6db9dcb153474fbe169085c219fc0"
   }
  }
 },
 "nbformat": 4,
 "nbformat_minor": 2
}
