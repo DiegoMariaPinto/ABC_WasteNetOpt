{
 "cells": [
  {
   "cell_type": "code",
   "execution_count": 13,
   "metadata": {
    "pycharm": {
     "name": "#%%\n"
    }
   },
   "outputs": [],
   "source": [
    "import numpy as np\n",
    "import pandas as pd\n",
    "from pathlib import Path\n",
    "import yaml\n",
    "from support_functions import load_dictionaries\n",
    "import matplotlib.pyplot as plt\n",
    "import seaborn as sns"
   ]
  },
  {
   "cell_type": "code",
   "execution_count": 14,
   "metadata": {
    "collapsed": false,
    "pycharm": {
     "name": "#%%\n"
    }
   },
   "outputs": [],
   "source": [
    "df_real = pd.read_excel(\"Data/\"+\"real_data.xlsx\", index_col=0)\n",
    "\n",
    "\n",
    "with open(\"Config/config_file.yml\", \"r\") as ymlfile:\n",
    "    cfg = yaml.safe_load(ymlfile)\n",
    "day_of_the_week = cfg[\"day_of_the_week\"]\n",
    "cost_euro_x_Km = cfg[\"cost_euro_x_Km\"]\n",
    "solution_to_analize = cfg[\"solution_to_analize\"]\n",
    "df_real = df_real[df_real[day_of_the_week].notna()]\n",
    "\n",
    "\n",
    "df_our_model_solution = pd.read_excel(\"Results/\"+solution_to_analize, index_col=0)  #sta in questo file solo per fare il confonto AMA vs OUR (i plot in \"AMA solution vs our solution: a visual comparison\")\n",
    "df_ama_solution = df_real[[\"service_id\", \"material\", \"preferred_autocenter\", \"vehicle\", \"preferred_facility_desc\", \"preferred_facility_id\", \"quantity(kg)\"]].rename(columns = {\"preferred_autocenter\": \"vehicle_autocenter\",\"vehicle\":\"vehicle_type\", \"preferred_facility_id\":\"facility_id\", \"quantity(kg)\":\"service_quantity(kg)\"})"
   ]
  },
  {
   "cell_type": "code",
   "execution_count": 15,
   "metadata": {
    "collapsed": false,
    "pycharm": {
     "name": "#%%\n"
    }
   },
   "outputs": [
    {
     "data": {
      "text/html": [
       "<div>\n",
       "<style scoped>\n",
       "    .dataframe tbody tr th:only-of-type {\n",
       "        vertical-align: middle;\n",
       "    }\n",
       "\n",
       "    .dataframe tbody tr th {\n",
       "        vertical-align: top;\n",
       "    }\n",
       "\n",
       "    .dataframe thead th {\n",
       "        text-align: right;\n",
       "    }\n",
       "</style>\n",
       "<table border=\"1\" class=\"dataframe\">\n",
       "  <thead>\n",
       "    <tr style=\"text-align: right;\">\n",
       "      <th></th>\n",
       "      <th>service_id</th>\n",
       "      <th>material</th>\n",
       "      <th>vehicle_autocenter</th>\n",
       "      <th>vehicle_type</th>\n",
       "      <th>preferred_facility_desc</th>\n",
       "      <th>facility_id</th>\n",
       "      <th>service_quantity(kg)</th>\n",
       "    </tr>\n",
       "  </thead>\n",
       "  <tbody>\n",
       "    <tr>\n",
       "      <th>0</th>\n",
       "      <td>13B22P</td>\n",
       "      <td>rifiuto indifferenziato</td>\n",
       "      <td>AUTO_AC</td>\n",
       "      <td>COMP 2A</td>\n",
       "      <td>TMB MALAGROTTA 1/2 (RIFIUTO INDIFFERENZIATO)</td>\n",
       "      <td>IMP_000010_0011</td>\n",
       "      <td>1280</td>\n",
       "    </tr>\n",
       "    <tr>\n",
       "      <th>1</th>\n",
       "      <td>M12AR01</td>\n",
       "      <td>rifiuto indifferenziato</td>\n",
       "      <td>AUTO_AC</td>\n",
       "      <td>COMP SIDE LOA 3A</td>\n",
       "      <td>TMB MALAGROTTA 1/2 (RIFIUTO INDIFFERENZIATO)</td>\n",
       "      <td>IMP_000010_0011</td>\n",
       "      <td>6020</td>\n",
       "    </tr>\n",
       "    <tr>\n",
       "      <th>3</th>\n",
       "      <td>M12AR01N</td>\n",
       "      <td>rifiuto indifferenziato</td>\n",
       "      <td>AUTO_AC</td>\n",
       "      <td>COMP SIDE LOA 3A</td>\n",
       "      <td>TMB MALAGROTTA 1/2 (RIFIUTO INDIFFERENZIATO)</td>\n",
       "      <td>IMP_000010_0011</td>\n",
       "      <td>6370</td>\n",
       "    </tr>\n",
       "    <tr>\n",
       "      <th>4</th>\n",
       "      <td>M12AS02</td>\n",
       "      <td>rifiuto indifferenziato</td>\n",
       "      <td>AUTO_AC</td>\n",
       "      <td>COMP SIDE LOA 3A</td>\n",
       "      <td>TMB MALAGROTTA 1/2 (RIFIUTO INDIFFERENZIATO)</td>\n",
       "      <td>IMP_000010_0011</td>\n",
       "      <td>7350</td>\n",
       "    </tr>\n",
       "    <tr>\n",
       "      <th>6</th>\n",
       "      <td>M12BI03</td>\n",
       "      <td>rifiuto indifferenziato</td>\n",
       "      <td>AUTO_AC</td>\n",
       "      <td>COMP SIDE LOA 3A</td>\n",
       "      <td>TMB MALAGROTTA 1/2 (RIFIUTO INDIFFERENZIATO)</td>\n",
       "      <td>IMP_000010_0011</td>\n",
       "      <td>6510</td>\n",
       "    </tr>\n",
       "    <tr>\n",
       "      <th>...</th>\n",
       "      <td>...</td>\n",
       "      <td>...</td>\n",
       "      <td>...</td>\n",
       "      <td>...</td>\n",
       "      <td>...</td>\n",
       "      <td>...</td>\n",
       "      <td>...</td>\n",
       "    </tr>\n",
       "    <tr>\n",
       "      <th>805</th>\n",
       "      <td>04RD01-CA</td>\n",
       "      <td>rifiuto rd carta</td>\n",
       "      <td>AUTO_SA</td>\n",
       "      <td>COMP SIDE LOA 3A</td>\n",
       "      <td>ROMANA MACERI (RIFIUTO RD CARTA)</td>\n",
       "      <td>IMP_000016_0013</td>\n",
       "      <td>5580</td>\n",
       "    </tr>\n",
       "    <tr>\n",
       "      <th>808</th>\n",
       "      <td>04RD04-CAB</td>\n",
       "      <td>rifiuto rd carta</td>\n",
       "      <td>AUTO_SA</td>\n",
       "      <td>COMP SIDE LOA 3A</td>\n",
       "      <td>ROMANA MACERI (RIFIUTO RD CARTA)</td>\n",
       "      <td>IMP_000016_0013</td>\n",
       "      <td>5340</td>\n",
       "    </tr>\n",
       "    <tr>\n",
       "      <th>810</th>\n",
       "      <td>04RD06-CAB</td>\n",
       "      <td>rifiuto rd carta</td>\n",
       "      <td>AUTO_SA</td>\n",
       "      <td>COMP SIDE LOA 3A</td>\n",
       "      <td>ROMANA MACERI (RIFIUTO RD CARTA)</td>\n",
       "      <td>IMP_000016_0013</td>\n",
       "      <td>4680</td>\n",
       "    </tr>\n",
       "    <tr>\n",
       "      <th>814</th>\n",
       "      <td>04RD10-CAB</td>\n",
       "      <td>rifiuto rd carta</td>\n",
       "      <td>AUTO_SA</td>\n",
       "      <td>COMP SIDE LOA 3A</td>\n",
       "      <td>ROMANA MACERI (RIFIUTO RD CARTA)</td>\n",
       "      <td>IMP_000016_0013</td>\n",
       "      <td>5460</td>\n",
       "    </tr>\n",
       "    <tr>\n",
       "      <th>818</th>\n",
       "      <td>20RD09-CA</td>\n",
       "      <td>rifiuto rd carta</td>\n",
       "      <td>AUTO_SA</td>\n",
       "      <td>COMP SIDE LOA 2A</td>\n",
       "      <td>ROMANA MACERI (RIFIUTO RD CARTA)</td>\n",
       "      <td>IMP_000016_0013</td>\n",
       "      <td>3300</td>\n",
       "    </tr>\n",
       "  </tbody>\n",
       "</table>\n",
       "<p>464 rows × 7 columns</p>\n",
       "</div>"
      ],
      "text/plain": [
       "     service_id                 material vehicle_autocenter      vehicle_type  \\\n",
       "0        13B22P  rifiuto indifferenziato            AUTO_AC           COMP 2A   \n",
       "1       M12AR01  rifiuto indifferenziato            AUTO_AC  COMP SIDE LOA 3A   \n",
       "3      M12AR01N  rifiuto indifferenziato            AUTO_AC  COMP SIDE LOA 3A   \n",
       "4       M12AS02  rifiuto indifferenziato            AUTO_AC  COMP SIDE LOA 3A   \n",
       "6       M12BI03  rifiuto indifferenziato            AUTO_AC  COMP SIDE LOA 3A   \n",
       "..          ...                      ...                ...               ...   \n",
       "805   04RD01-CA         rifiuto rd carta            AUTO_SA  COMP SIDE LOA 3A   \n",
       "808  04RD04-CAB         rifiuto rd carta            AUTO_SA  COMP SIDE LOA 3A   \n",
       "810  04RD06-CAB         rifiuto rd carta            AUTO_SA  COMP SIDE LOA 3A   \n",
       "814  04RD10-CAB         rifiuto rd carta            AUTO_SA  COMP SIDE LOA 3A   \n",
       "818   20RD09-CA         rifiuto rd carta            AUTO_SA  COMP SIDE LOA 2A   \n",
       "\n",
       "                          preferred_facility_desc      facility_id  \\\n",
       "0    TMB MALAGROTTA 1/2 (RIFIUTO INDIFFERENZIATO)  IMP_000010_0011   \n",
       "1    TMB MALAGROTTA 1/2 (RIFIUTO INDIFFERENZIATO)  IMP_000010_0011   \n",
       "3    TMB MALAGROTTA 1/2 (RIFIUTO INDIFFERENZIATO)  IMP_000010_0011   \n",
       "4    TMB MALAGROTTA 1/2 (RIFIUTO INDIFFERENZIATO)  IMP_000010_0011   \n",
       "6    TMB MALAGROTTA 1/2 (RIFIUTO INDIFFERENZIATO)  IMP_000010_0011   \n",
       "..                                            ...              ...   \n",
       "805              ROMANA MACERI (RIFIUTO RD CARTA)  IMP_000016_0013   \n",
       "808              ROMANA MACERI (RIFIUTO RD CARTA)  IMP_000016_0013   \n",
       "810              ROMANA MACERI (RIFIUTO RD CARTA)  IMP_000016_0013   \n",
       "814              ROMANA MACERI (RIFIUTO RD CARTA)  IMP_000016_0013   \n",
       "818              ROMANA MACERI (RIFIUTO RD CARTA)  IMP_000016_0013   \n",
       "\n",
       "     service_quantity(kg)  \n",
       "0                    1280  \n",
       "1                    6020  \n",
       "3                    6370  \n",
       "4                    7350  \n",
       "6                    6510  \n",
       "..                    ...  \n",
       "805                  5580  \n",
       "808                  5340  \n",
       "810                  4680  \n",
       "814                  5460  \n",
       "818                  3300  \n",
       "\n",
       "[464 rows x 7 columns]"
      ]
     },
     "execution_count": 15,
     "metadata": {},
     "output_type": "execute_result"
    }
   ],
   "source": [
    "df_ama_solution"
   ]
  },
  {
   "cell_type": "code",
   "execution_count": 16,
   "metadata": {
    "collapsed": false,
    "pycharm": {
     "name": "#%%\n"
    }
   },
   "outputs": [
    {
     "data": {
      "text/html": [
       "<div>\n",
       "<style scoped>\n",
       "    .dataframe tbody tr th:only-of-type {\n",
       "        vertical-align: middle;\n",
       "    }\n",
       "\n",
       "    .dataframe tbody tr th {\n",
       "        vertical-align: top;\n",
       "    }\n",
       "\n",
       "    .dataframe thead th {\n",
       "        text-align: right;\n",
       "    }\n",
       "</style>\n",
       "<table border=\"1\" class=\"dataframe\">\n",
       "  <thead>\n",
       "    <tr style=\"text-align: right;\">\n",
       "      <th></th>\n",
       "      <th>vehicle_autocenter</th>\n",
       "      <th>vehicle_type</th>\n",
       "      <th>available</th>\n",
       "    </tr>\n",
       "  </thead>\n",
       "  <tbody>\n",
       "    <tr>\n",
       "      <th>0</th>\n",
       "      <td>AUTO_AC</td>\n",
       "      <td>COMP 2A</td>\n",
       "      <td>14</td>\n",
       "    </tr>\n",
       "    <tr>\n",
       "      <th>1</th>\n",
       "      <td>AUTO_AC</td>\n",
       "      <td>COMP 3A</td>\n",
       "      <td>14</td>\n",
       "    </tr>\n",
       "    <tr>\n",
       "      <th>2</th>\n",
       "      <td>AUTO_AC</td>\n",
       "      <td>COMP SIDE LOA 2A</td>\n",
       "      <td>2</td>\n",
       "    </tr>\n",
       "    <tr>\n",
       "      <th>3</th>\n",
       "      <td>AUTO_AC</td>\n",
       "      <td>COMP SIDE LOA 3A</td>\n",
       "      <td>21</td>\n",
       "    </tr>\n",
       "    <tr>\n",
       "      <th>4</th>\n",
       "      <td>AUTO_PM</td>\n",
       "      <td>COMP 2A</td>\n",
       "      <td>35</td>\n",
       "    </tr>\n",
       "  </tbody>\n",
       "</table>\n",
       "</div>"
      ],
      "text/plain": [
       "  vehicle_autocenter      vehicle_type  available\n",
       "0            AUTO_AC           COMP 2A         14\n",
       "1            AUTO_AC           COMP 3A         14\n",
       "2            AUTO_AC  COMP SIDE LOA 2A          2\n",
       "3            AUTO_AC  COMP SIDE LOA 3A         21\n",
       "4            AUTO_PM           COMP 2A         35"
      ]
     },
     "execution_count": 16,
     "metadata": {},
     "output_type": "execute_result"
    }
   ],
   "source": [
    "##   We need df_depots for the following computations\n",
    "df_depots = pd.read_excel('Data/real_data.xlsx',sheet_name='Depot',index_col=0)\n",
    "df_depots.fillna(0,inplace=True)\n",
    "vehicle_per_depot = df_depots[[\"vehicle\"]]\n",
    "vehicles_per_depot_list = []\n",
    "for depot_id in vehicle_per_depot.index:\n",
    "    depot_dic = eval(vehicle_per_depot[vehicle_per_depot.index==depot_id][\"vehicle\"][depot_id])\n",
    "    for key in depot_dic.keys():\n",
    "        template_row = [depot_id, key, depot_dic[key]]\n",
    "        vehicles_per_depot_list.append(template_row)\n",
    "df_vehicle_per_depot = pd.DataFrame(vehicles_per_depot_list, columns = [\"vehicle_autocenter\", \"vehicle_type\", \"available\"])\n",
    "df_vehicle_per_depot.head(5)\n"
   ]
  },
  {
   "cell_type": "code",
   "execution_count": 17,
   "metadata": {
    "collapsed": false,
    "pycharm": {
     "name": "#%%\n"
    }
   },
   "outputs": [],
   "source": [
    "# df_depots = pd.read_excel('Data/real_data.xlsx',sheet_name='Depot')['depot_id']\n",
    "# df_services = pd.read_excel('Data/real_data.xlsx',sheet_name='Service',index_col=0)\n",
    "# df_services = df_services[df_services[day_of_the_week].notna()]['service_id']\n",
    "# df_disposals = pd.read_excel('Data/real_data.xlsx',sheet_name='Disposal')['disposal_id']\n",
    "# df_tranships = pd.read_excel('Data/real_data.xlsx',sheet_name='Transship')['transhipment_id']\n",
    "# df = pd.concat([df_depots, df_services, df_disposals, df_tranships])\n",
    "# df = df.reset_index(drop=True)\n",
    "# nodeid_to_grbid_dict = pd.Series(df.index.values, index= df ).to_dict()\n",
    "# nodeid_to_grbid_dict"
   ]
  },
  {
   "cell_type": "code",
   "execution_count": 18,
   "metadata": {
    "collapsed": false,
    "pycharm": {
     "name": "#%%\n"
    }
   },
   "outputs": [
    {
     "name": "stdout",
     "output_type": "stream",
     "text": [
      "dis. & dur. dictionaries have been loaded\n"
     ]
    }
   ],
   "source": [
    "dis_dict, dur_dict = load_dictionaries()"
   ]
  },
  {
   "cell_type": "code",
   "execution_count": 19,
   "metadata": {
    "collapsed": false,
    "pycharm": {
     "name": "#%%\n"
    }
   },
   "outputs": [],
   "source": [
    "with open(\"Config/config_file.yml\", \"r\") as ymlfile:\n",
    "    cfg = yaml.safe_load(ymlfile)\n",
    "\n"
   ]
  },
  {
   "cell_type": "code",
   "execution_count": 20,
   "metadata": {
    "collapsed": false,
    "pycharm": {
     "name": "#%%\n"
    }
   },
   "outputs": [
    {
     "data": {
      "text/html": [
       "<div>\n",
       "<style scoped>\n",
       "    .dataframe tbody tr th:only-of-type {\n",
       "        vertical-align: middle;\n",
       "    }\n",
       "\n",
       "    .dataframe tbody tr th {\n",
       "        vertical-align: top;\n",
       "    }\n",
       "\n",
       "    .dataframe thead th {\n",
       "        text-align: right;\n",
       "    }\n",
       "</style>\n",
       "<table border=\"1\" class=\"dataframe\">\n",
       "  <thead>\n",
       "    <tr style=\"text-align: right;\">\n",
       "      <th></th>\n",
       "      <th>service_id</th>\n",
       "      <th>material</th>\n",
       "      <th>vehicle_autocenter</th>\n",
       "      <th>vehicle_type</th>\n",
       "      <th>preferred_facility_desc</th>\n",
       "      <th>facility_id</th>\n",
       "      <th>service_quantity(kg)</th>\n",
       "    </tr>\n",
       "  </thead>\n",
       "  <tbody>\n",
       "    <tr>\n",
       "      <th>0</th>\n",
       "      <td>13B22P</td>\n",
       "      <td>rifiuto indifferenziato</td>\n",
       "      <td>AUTO_AC</td>\n",
       "      <td>COMP 2A</td>\n",
       "      <td>TMB MALAGROTTA 1/2 (RIFIUTO INDIFFERENZIATO)</td>\n",
       "      <td>IMP_000010_0011</td>\n",
       "      <td>1280</td>\n",
       "    </tr>\n",
       "    <tr>\n",
       "      <th>1</th>\n",
       "      <td>M12AR01</td>\n",
       "      <td>rifiuto indifferenziato</td>\n",
       "      <td>AUTO_AC</td>\n",
       "      <td>COMP SIDE LOA 3A</td>\n",
       "      <td>TMB MALAGROTTA 1/2 (RIFIUTO INDIFFERENZIATO)</td>\n",
       "      <td>IMP_000010_0011</td>\n",
       "      <td>6020</td>\n",
       "    </tr>\n",
       "    <tr>\n",
       "      <th>3</th>\n",
       "      <td>M12AR01N</td>\n",
       "      <td>rifiuto indifferenziato</td>\n",
       "      <td>AUTO_AC</td>\n",
       "      <td>COMP SIDE LOA 3A</td>\n",
       "      <td>TMB MALAGROTTA 1/2 (RIFIUTO INDIFFERENZIATO)</td>\n",
       "      <td>IMP_000010_0011</td>\n",
       "      <td>6370</td>\n",
       "    </tr>\n",
       "    <tr>\n",
       "      <th>4</th>\n",
       "      <td>M12AS02</td>\n",
       "      <td>rifiuto indifferenziato</td>\n",
       "      <td>AUTO_AC</td>\n",
       "      <td>COMP SIDE LOA 3A</td>\n",
       "      <td>TMB MALAGROTTA 1/2 (RIFIUTO INDIFFERENZIATO)</td>\n",
       "      <td>IMP_000010_0011</td>\n",
       "      <td>7350</td>\n",
       "    </tr>\n",
       "    <tr>\n",
       "      <th>6</th>\n",
       "      <td>M12BI03</td>\n",
       "      <td>rifiuto indifferenziato</td>\n",
       "      <td>AUTO_AC</td>\n",
       "      <td>COMP SIDE LOA 3A</td>\n",
       "      <td>TMB MALAGROTTA 1/2 (RIFIUTO INDIFFERENZIATO)</td>\n",
       "      <td>IMP_000010_0011</td>\n",
       "      <td>6510</td>\n",
       "    </tr>\n",
       "  </tbody>\n",
       "</table>\n",
       "</div>"
      ],
      "text/plain": [
       "  service_id                 material vehicle_autocenter      vehicle_type  \\\n",
       "0     13B22P  rifiuto indifferenziato            AUTO_AC           COMP 2A   \n",
       "1    M12AR01  rifiuto indifferenziato            AUTO_AC  COMP SIDE LOA 3A   \n",
       "3   M12AR01N  rifiuto indifferenziato            AUTO_AC  COMP SIDE LOA 3A   \n",
       "4    M12AS02  rifiuto indifferenziato            AUTO_AC  COMP SIDE LOA 3A   \n",
       "6    M12BI03  rifiuto indifferenziato            AUTO_AC  COMP SIDE LOA 3A   \n",
       "\n",
       "                        preferred_facility_desc      facility_id  \\\n",
       "0  TMB MALAGROTTA 1/2 (RIFIUTO INDIFFERENZIATO)  IMP_000010_0011   \n",
       "1  TMB MALAGROTTA 1/2 (RIFIUTO INDIFFERENZIATO)  IMP_000010_0011   \n",
       "3  TMB MALAGROTTA 1/2 (RIFIUTO INDIFFERENZIATO)  IMP_000010_0011   \n",
       "4  TMB MALAGROTTA 1/2 (RIFIUTO INDIFFERENZIATO)  IMP_000010_0011   \n",
       "6  TMB MALAGROTTA 1/2 (RIFIUTO INDIFFERENZIATO)  IMP_000010_0011   \n",
       "\n",
       "   service_quantity(kg)  \n",
       "0                  1280  \n",
       "1                  6020  \n",
       "3                  6370  \n",
       "4                  7350  \n",
       "6                  6510  "
      ]
     },
     "execution_count": 20,
     "metadata": {},
     "output_type": "execute_result"
    }
   ],
   "source": [
    "df_ama_solution.head()"
   ]
  },
  {
   "cell_type": "markdown",
   "metadata": {
    "collapsed": false,
    "pycharm": {
     "name": "#%% md\n"
    }
   },
   "source": [
    "## Kilometers"
   ]
  },
  {
   "cell_type": "code",
   "execution_count": 21,
   "metadata": {
    "collapsed": false,
    "pycharm": {
     "name": "#%%\n"
    }
   },
   "outputs": [
    {
     "name": "stdout",
     "output_type": "stream",
     "text": [
      "AMA objective function value is:  21861.792\n",
      "kilometers of AMA solution:  24290.88\n"
     ]
    }
   ],
   "source": [
    "total_dis = 0\n",
    "for index,row in df_ama_solution.iterrows():\n",
    "    total_dis += dis_dict[row['vehicle_autocenter'],row['service_id']]\n",
    "    total_dis += dis_dict[row['service_id'],row['facility_id']]\n",
    "    total_dis += dis_dict[row['facility_id'],row['vehicle_autocenter']]\n",
    "\n",
    "total_dis = np.round(total_dis, 2)\n",
    "\n",
    "print(\"AMA objective function value is: \", total_dis*cost_euro_x_Km)\n",
    "print(\"kilometers of AMA solution: \", total_dis)"
   ]
  },
  {
   "cell_type": "markdown",
   "metadata": {
    "pycharm": {
     "name": "#%% md\n"
    }
   },
   "source": [
    "## AMA solution vs our solution: a visual comparison"
   ]
  },
  {
   "cell_type": "code",
   "execution_count": 22,
   "metadata": {
    "pycharm": {
     "name": "#%%\n"
    }
   },
   "outputs": [],
   "source": [
    "service_time_ama_dict = {}\n",
    "service_km_ama_dict = {}\n",
    "\n",
    "service_time_our_dict = {}   #trovare nome più carino\n",
    "service_km_our_dict = {}\n",
    "\n",
    "df_our_model_solution\n",
    "\n",
    "\n",
    "for index,row in df_ama_solution.iterrows():\n",
    "    service_id = row['service_id']\n",
    "    v_autocenter = row['vehicle_autocenter']\n",
    "    facility_id = row['facility_id']\n",
    "    service_km_ama_dict[service_id] = dis_dict[v_autocenter, service_id] + dis_dict[service_id, facility_id]+dis_dict[facility_id, v_autocenter]\n",
    "    service_time_ama_dict[service_id] = dur_dict[v_autocenter, service_id] + dur_dict[service_id, facility_id]+dur_dict[facility_id, v_autocenter]\n",
    "\n",
    "for index,row in df_our_model_solution.iterrows():\n",
    "    service_id = row['service_id']\n",
    "    v_autocenter = row['vehicle_autocenter']\n",
    "    facility_id = row['facility_id']\n",
    "    service_km_our_dict[service_id] = dis_dict[v_autocenter, service_id] + dis_dict[service_id, facility_id]+dis_dict[facility_id, v_autocenter]\n",
    "    service_time_our_dict[service_id] = dur_dict[v_autocenter, service_id] + dur_dict[service_id, facility_id]+dur_dict[facility_id, v_autocenter]"
   ]
  },
  {
   "cell_type": "code",
   "execution_count": 24,
   "metadata": {
    "pycharm": {
     "name": "#%%\n"
    }
   },
   "outputs": [
    {
     "name": "stdout",
     "output_type": "stream",
     "text": [
      "km as 6887.891600000005\n",
      "km sf 7780.721199999997\n",
      "km fa 2093.4134000000035\n",
      "sum km: 16762.026200000008\n"
     ]
    }
   ],
   "source": [
    "#### Prendo i km per segmento e li confronto con quelli che si trovano in Formulation v1 (ANALYZE SOLUTION, check km, detail per segment)\n",
    "#### NB! i dizionari sono diversi, uno prende gli indici (quello di form_v1) e l'altro invece gli ID veri.\n",
    "#### SOSPETTO: la creazione di \"d\" (nella formulazione v1) potrebbe essere sbagliata.\n",
    "km_as = 0\n",
    "km_sf = 0\n",
    "km_fa = 0\n",
    "\n",
    "for index,row in df_our_model_solution.iterrows():\n",
    "    service_id = row['service_id']\n",
    "    v_autocenter = row['vehicle_autocenter']\n",
    "    facility_id = row['facility_id']\n",
    "    km_as += dis_dict[v_autocenter, service_id]\n",
    "    km_sf += dis_dict[service_id, facility_id]\n",
    "    km_fa += dis_dict[facility_id, v_autocenter]\n",
    "\n",
    "print(\"km as\", km_as)\n",
    "print(\"km sf\", km_sf)\n",
    "print(\"km fa\", km_fa)\n",
    "print(\"sum km:\", km_as+km_sf+km_fa)"
   ]
  },
  {
   "cell_type": "code",
   "execution_count": 26,
   "metadata": {
    "pycharm": {
     "name": "#%%\n"
    }
   },
   "outputs": [
    {
     "name": "stdout",
     "output_type": "stream",
     "text": [
      "total km in the ama solution:  24290.88\n",
      "total km in our solution:  16762.03\n",
      "total time in the ama solution:  686.13\n",
      "total time in our solution:  517.3\n"
     ]
    }
   ],
   "source": [
    "ama_times = list(service_time_ama_dict.values())\n",
    "ama_km = list(service_km_ama_dict.values())\n",
    "our_times = list(service_time_our_dict.values())\n",
    "our_km = list(service_km_our_dict.values())\n",
    "\n",
    "print(\"total km in the ama solution: \", np.round(sum(ama_km),2))\n",
    "print(\"total km in our solution: \", np.round(sum(our_km),2))\n",
    "\n",
    "print(\"total time in the ama solution: \", np.round(sum(ama_times),2))\n",
    "print(\"total time in our solution: \", np.round(sum(our_times),2))\n"
   ]
  },
  {
   "cell_type": "code",
   "execution_count": 37,
   "metadata": {
    "pycharm": {
     "name": "#%%\n"
    }
   },
   "outputs": [
    {
     "data": {
      "text/plain": [
       "<Figure size 432x288 with 0 Axes>"
      ]
     },
     "metadata": {},
     "output_type": "display_data"
    },
    {
     "data": {
      "image/png": "[encoded data removed]",
      "text/plain": [
       "<Figure size 360x360 with 1 Axes>"
      ]
     },
     "metadata": {
      "needs_background": "light"
     },
     "output_type": "display_data"
    },
    {
     "data": {
      "text/plain": [
       "(0.0, 110.0)"
      ]
     },
     "execution_count": 37,
     "metadata": {},
     "output_type": "execute_result"
    },
    {
     "data": {
      "text/plain": [
       "<Figure size 432x288 with 0 Axes>"
      ]
     },
     "metadata": {},
     "output_type": "display_data"
    },
    {
     "data": {
      "image/png": "[encoded data removed]",
      "text/plain": [
       "<Figure size 360x360 with 1 Axes>"
      ]
     },
     "metadata": {
      "needs_background": "light"
     },
     "output_type": "display_data"
    }
   ],
   "source": [
    "plt.clf()\n",
    "sns.displot(x=ama_km, kde=True)\n",
    "plt.xlim(0, 130)\n",
    "plt.show()\n",
    "\n",
    "\n",
    "plt.clf()\n",
    "sns.displot(x=our_km, kde=True, color = 'r')\n",
    "plt.xlim(0, 130)\n",
    "plt.show()\n",
    "\n",
    "\n"
   ]
  },
  {
   "cell_type": "code",
   "execution_count": 40,
   "metadata": {
    "pycharm": {
     "name": "#%%\n"
    }
   },
   "outputs": [
    {
     "data": {
      "text/plain": [
       "<Figure size 432x288 with 0 Axes>"
      ]
     },
     "metadata": {},
     "output_type": "display_data"
    },
    {
     "data": {
      "image/png": "[encoded data removed]",
      "text/plain": [
       "<Figure size 360x360 with 1 Axes>"
      ]
     },
     "metadata": {
      "needs_background": "light"
     },
     "output_type": "display_data"
    },
    {
     "data": {
      "text/plain": [
       "<Figure size 432x288 with 0 Axes>"
      ]
     },
     "metadata": {},
     "output_type": "display_data"
    },
    {
     "data": {
      "image/png": "[encoded data removed]",
      "text/plain": [
       "<Figure size 360x360 with 1 Axes>"
      ]
     },
     "metadata": {
      "needs_background": "light"
     },
     "output_type": "display_data"
    }
   ],
   "source": [
    "plt.clf()\n",
    "sns.displot(x=ama_times, kde=True)\n",
    "plt.xlim(0, 3)\n",
    "plt.show()\n",
    "\n",
    "plt.clf()\n",
    "sns.displot(x=our_times, kde=True, color = 'r')\n",
    "plt.xlim(0, 3)\n",
    "plt.show()"
   ]
  },
  {
   "cell_type": "markdown",
   "metadata": {
    "collapsed": false,
    "pycharm": {
     "name": "#%% md\n"
    }
   },
   "source": [
    "## Vehicle usage"
   ]
  },
  {
   "cell_type": "code",
   "execution_count": 77,
   "metadata": {
    "collapsed": false,
    "pycharm": {
     "name": "#%%\n"
    }
   },
   "outputs": [
    {
     "data": {
      "text/html": [
       "<div>\n",
       "<style scoped>\n",
       "    .dataframe tbody tr th:only-of-type {\n",
       "        vertical-align: middle;\n",
       "    }\n",
       "\n",
       "    .dataframe tbody tr th {\n",
       "        vertical-align: top;\n",
       "    }\n",
       "\n",
       "    .dataframe thead th {\n",
       "        text-align: right;\n",
       "    }\n",
       "</style>\n",
       "<table border=\"1\" class=\"dataframe\">\n",
       "  <thead>\n",
       "    <tr style=\"text-align: right;\">\n",
       "      <th></th>\n",
       "      <th>vehicle_autocenter</th>\n",
       "      <th>vehicle_type</th>\n",
       "      <th>used</th>\n",
       "      <th>available</th>\n",
       "      <th>%</th>\n",
       "    </tr>\n",
       "  </thead>\n",
       "  <tbody>\n",
       "    <tr>\n",
       "      <th>0</th>\n",
       "      <td>AUTO_AC</td>\n",
       "      <td>COMP 2A</td>\n",
       "      <td>1</td>\n",
       "      <td>14</td>\n",
       "      <td>7.1</td>\n",
       "    </tr>\n",
       "    <tr>\n",
       "      <th>1</th>\n",
       "      <td>AUTO_AC</td>\n",
       "      <td>COMP 3A</td>\n",
       "      <td>0</td>\n",
       "      <td>14</td>\n",
       "      <td>0.0</td>\n",
       "    </tr>\n",
       "    <tr>\n",
       "      <th>2</th>\n",
       "      <td>AUTO_AC</td>\n",
       "      <td>COMP SIDE LOA 2A</td>\n",
       "      <td>0</td>\n",
       "      <td>2</td>\n",
       "      <td>0.0</td>\n",
       "    </tr>\n",
       "    <tr>\n",
       "      <th>3</th>\n",
       "      <td>AUTO_AC</td>\n",
       "      <td>COMP SIDE LOA 3A</td>\n",
       "      <td>27</td>\n",
       "      <td>21</td>\n",
       "      <td>128.6</td>\n",
       "    </tr>\n",
       "    <tr>\n",
       "      <th>4</th>\n",
       "      <td>AUTO_PM</td>\n",
       "      <td>COMP 2A</td>\n",
       "      <td>27</td>\n",
       "      <td>35</td>\n",
       "      <td>77.1</td>\n",
       "    </tr>\n",
       "    <tr>\n",
       "      <th>5</th>\n",
       "      <td>AUTO_PM</td>\n",
       "      <td>COMP 3A</td>\n",
       "      <td>0</td>\n",
       "      <td>16</td>\n",
       "      <td>0.0</td>\n",
       "    </tr>\n",
       "    <tr>\n",
       "      <th>6</th>\n",
       "      <td>AUTO_PM</td>\n",
       "      <td>COMP SIDE LOA 2A</td>\n",
       "      <td>15</td>\n",
       "      <td>17</td>\n",
       "      <td>88.2</td>\n",
       "    </tr>\n",
       "    <tr>\n",
       "      <th>7</th>\n",
       "      <td>AUTO_PM</td>\n",
       "      <td>COMP SIDE LOA 3A</td>\n",
       "      <td>64</td>\n",
       "      <td>46</td>\n",
       "      <td>139.1</td>\n",
       "    </tr>\n",
       "    <tr>\n",
       "      <th>8</th>\n",
       "      <td>AUTO_RC</td>\n",
       "      <td>COMP 2A</td>\n",
       "      <td>6</td>\n",
       "      <td>31</td>\n",
       "      <td>19.4</td>\n",
       "    </tr>\n",
       "    <tr>\n",
       "      <th>9</th>\n",
       "      <td>AUTO_RC</td>\n",
       "      <td>COMP 3A</td>\n",
       "      <td>0</td>\n",
       "      <td>27</td>\n",
       "      <td>0.0</td>\n",
       "    </tr>\n",
       "  </tbody>\n",
       "</table>\n",
       "</div>"
      ],
      "text/plain": [
       "  vehicle_autocenter      vehicle_type  used  available      %\n",
       "0            AUTO_AC           COMP 2A     1         14    7.1\n",
       "1            AUTO_AC           COMP 3A     0         14    0.0\n",
       "2            AUTO_AC  COMP SIDE LOA 2A     0          2    0.0\n",
       "3            AUTO_AC  COMP SIDE LOA 3A    27         21  128.6\n",
       "4            AUTO_PM           COMP 2A    27         35   77.1\n",
       "5            AUTO_PM           COMP 3A     0         16    0.0\n",
       "6            AUTO_PM  COMP SIDE LOA 2A    15         17   88.2\n",
       "7            AUTO_PM  COMP SIDE LOA 3A    64         46  139.1\n",
       "8            AUTO_RC           COMP 2A     6         31   19.4\n",
       "9            AUTO_RC           COMP 3A     0         27    0.0"
      ]
     },
     "execution_count": 77,
     "metadata": {},
     "output_type": "execute_result"
    }
   ],
   "source": [
    "# - df_vehicle_per_depot_used: vehicle departed by each autocenter - vehicle_type detail\n",
    "df_vehicle_per_depot_used = df_ama_solution.groupby([\"vehicle_autocenter\", \"vehicle_type\"], as_index=False).size().rename(columns = {'size': \"used\"})\n",
    "df_vehicle_per_depot_used = df_vehicle_per_depot.merge(df_vehicle_per_depot_used, on=[\"vehicle_autocenter\", \"vehicle_type\"], how = 'outer').fillna(0)\n",
    "df_vehicle_per_depot_used[\"%\"] = np.round((df_vehicle_per_depot_used[\"used\"]/df_vehicle_per_depot_used[\"available\"])*100,1)\n",
    "df_vehicle_per_depot_used = df_vehicle_per_depot_used[[\"vehicle_autocenter\", \"vehicle_type\", \"used\", \"available\", \"%\"]]\n",
    "df_vehicle_per_depot_used[\"used\"] = df_vehicle_per_depot_used[\"used\"].astype(int)\n",
    "df_vehicle_per_depot_used.head(10)"
   ]
  },
  {
   "cell_type": "code",
   "execution_count": null,
   "metadata": {
    "collapsed": false,
    "pycharm": {
     "name": "#%%\n"
    }
   },
   "outputs": [],
   "source": [
    "# - df_vehicle_per_depot_used_agg: vehicle departed by each autocenter - aggregated\n",
    "df_vehicle_per_depot_used_agg = df_ama_solution.groupby([\"vehicle_autocenter\"], as_index=False).size().rename(columns = {'size': \"used\"})\n",
    "df_vehicle_per_depot_used_agg = pd.merge(df_vehicle_per_depot_used_agg, df_vehicle_per_depot.groupby(\"vehicle_autocenter\")[['available']].agg(sum).reset_index())\n",
    "df_vehicle_per_depot_used_agg[\"%\"] = (df_vehicle_per_depot_used_agg[\"used\"]/df_vehicle_per_depot_used_agg[\"available\"]*100).round(1)\n",
    "df_vehicle_per_depot_used_agg.head()"
   ]
  },
  {
   "cell_type": "code",
   "execution_count": null,
   "metadata": {
    "collapsed": false,
    "pycharm": {
     "name": "#%%\n"
    }
   },
   "outputs": [],
   "source": [
    "## df_vehicle_qnt_kg_per_type: kg and number of services per vehicle type - vehicle_type detail\n",
    "df_vehicle_qnt_kg_per_type = df_ama_solution.groupby([\"vehicle_autocenter\",\"vehicle_type\"]).agg(s_count = (\"service_id\", \"count\"), mean_kg_per_s = (\"service_quantity(kg)\", \"mean\"), total_kg = (\"service_quantity(kg)\", \"sum\")).round(1)\n",
    "df_vehicle_qnt_kg_per_type = df_vehicle_qnt_kg_per_type.join(df_vehicle_per_depot.groupby([\"vehicle_autocenter\",\"vehicle_type\"])[[\"available\"]].sum())\n",
    "df_vehicle_qnt_kg_per_type[\"%\"] = np.round(df_vehicle_qnt_kg_per_type[\"s_count\"]/df_vehicle_qnt_kg_per_type[\"available\"],2)*100\n",
    "df_vehicle_qnt_kg_per_type = df_vehicle_qnt_kg_per_type[[\"s_count\",\"available\",\"%\", \"mean_kg_per_s\", \"total_kg\"]]\n",
    "df_vehicle_qnt_kg_per_type"
   ]
  },
  {
   "cell_type": "code",
   "execution_count": null,
   "metadata": {
    "collapsed": false,
    "pycharm": {
     "name": "#%%\n"
    }
   },
   "outputs": [],
   "source": [
    "## df_vehicle_qnt_kg_per_type_agg: kg and number of services per vehicle type - aggregated\n",
    "df_vehicle_qnt_kg_per_type_agg = df_ama_solution.groupby(\"vehicle_type\").agg(s_count = (\"service_id\", \"count\"), mean_kg_per_s = (\"service_quantity(kg)\", \"mean\"), total_kg = (\"service_quantity(kg)\", \"sum\")).round(1)\n",
    "df_vehicle_qnt_kg_per_type_agg = df_vehicle_qnt_kg_per_type_agg.join(df_vehicle_per_depot.groupby(\"vehicle_type\")[[\"available\"]].sum())\n",
    "df_vehicle_qnt_kg_per_type_agg[\"%\"] = np.round(df_vehicle_qnt_kg_per_type_agg[\"s_count\"]/df_vehicle_qnt_kg_per_type_agg[\"available\"],2)*100\n",
    "df_vehicle_qnt_kg_per_type_agg = df_vehicle_qnt_kg_per_type_agg[[\"s_count\",\"available\",\"%\", \"mean_kg_per_s\", \"total_kg\"]]\n",
    "df_vehicle_qnt_kg_per_type_agg"
   ]
  },
  {
   "cell_type": "markdown",
   "metadata": {
    "collapsed": false,
    "pycharm": {
     "name": "#%% md\n"
    }
   },
   "source": [
    "## Facility usage"
   ]
  },
  {
   "cell_type": "code",
   "execution_count": null,
   "metadata": {
    "collapsed": false,
    "pycharm": {
     "name": "#%%\n"
    }
   },
   "outputs": [],
   "source": [
    "## df_facility_results: kg and number of services per facility\n",
    "df_facility_real = pd.read_excel(\"Data/real_data.xlsx\", sheet_name= \"Disposal\", index_col=0)\n",
    "df_facility_results = df_ama_solution.groupby(\"facility_id\").agg(s_count = (\"service_id\", \"count\"), mean_kg_per_s = (\"service_quantity(kg)\", \"mean\"), total_kg = (\"service_quantity(kg)\", \"sum\")).round(1)\n",
    "df_facility_results"
   ]
  },
  {
   "cell_type": "code",
   "execution_count": null,
   "metadata": {
    "collapsed": false,
    "pycharm": {
     "name": "#%%\n"
    }
   },
   "outputs": [],
   "source": [
    "## Add 15% to the capacity and export dataframe\n",
    "total_kg = df_facility_results['total_kg']\n",
    "writer = pd.ExcelWriter(str(Path().resolve()) + '\\\\Data\\\\AMA_capacity.xlsx', engine='xlsxwriter')\n",
    "total_kg.to_excel(writer, sheet_name='Capacity')\n",
    "writer.save()"
   ]
  },
  {
   "cell_type": "code",
   "execution_count": null,
   "metadata": {
    "collapsed": false,
    "pycharm": {
     "name": "#%%\n"
    }
   },
   "outputs": [],
   "source": [
    "#df_facility_summary = df_facility_real[[\"capacity(kg)\", \"material\"]].join(df_facility_results)\n",
    "#df_disposal_summary = df_facility_summary[[\"material\", \"s_count\", \"mean_kg_per_s\", \"total_kg\", \"capacity(kg)\"]].fillna(0)\n",
    "#df_facility_summary[\"%\"] = (df_facility_summary[\"total_kg\"]/df_facility_summary[\"capacity(kg)\"]*100).round(2)\n",
    "#df_facility_summary"
   ]
  },
  {
   "cell_type": "code",
   "execution_count": null,
   "metadata": {
    "collapsed": false,
    "pycharm": {
     "name": "#%%\n"
    }
   },
   "outputs": [],
   "source": []
  }
 ],
 "metadata": {
  "kernelspec": {
   "display_name": "Python 3.8.10 ('gurobiEnv': venv)",
   "language": "python",
   "name": "python3"
  },
  "language_info": {
   "codemirror_mode": {
    "name": "ipython",
    "version": 3
   },
   "file_extension": ".py",
   "mimetype": "text/x-python",
   "name": "python",
   "nbconvert_exporter": "python",
   "pygments_lexer": "ipython3",
   "version": "3.8.10"
  },
  "orig_nbformat": 4,
  "vscode": {
   "interpreter": {
    "hash": "f2ce15dbf419e97ec0409c08f924436661c56ad4f9dd7441d921d48a859932e0"
   }
  }
 },
 "nbformat": 4,
 "nbformat_minor": 2
}