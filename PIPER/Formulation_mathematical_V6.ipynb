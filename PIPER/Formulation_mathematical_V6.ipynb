{
 "cells": [
  {
   "cell_type": "markdown",
   "metadata": {
    "pycharm": {
     "name": "#%% md\n"
    }
   },
   "source": [
    "# Formulazione matematica"
   ]
  },
  {
   "cell_type": "markdown",
   "metadata": {
    "pycharm": {
     "name": "#%% md\n"
    }
   },
   "source": [
    "## Sets\n",
    "- $W$: set of shifts (M, P, N)\n",
    "- $S$: set of all demand points (services); ($S = S_M \\cup S_P \\cup S_N$)\n",
    "\n",
    "- $A$: set of all depots (depots);\n",
    "- $D$: set of all disposal points;\n",
    "- $T$: set of all transshipment points;\n",
    "- $V$: set of all vehicles.\n",
    "\n",
    "\n",
    "- $F$: set of all possible facilities (equal to $D \\cup T$)."
   ]
  },
  {
   "cell_type": "markdown",
   "metadata": {
    "collapsed": false,
    "pycharm": {
     "name": "#%% md\n"
    }
   },
   "source": [
    "### Graph data"
   ]
  },
  {
   "cell_type": "markdown",
   "metadata": {
    "collapsed": false,
    "pycharm": {
     "name": "#%% md\n"
    }
   },
   "source": [
    "Set\n",
    "- $N$: set of all graph nodes;\n",
    "- $E$: set of all arcs.\n",
    "\n",
    "Param\n",
    "- $c_{ij}$: travelling cost of arc $(i,j)$;\n",
    "- $d_{ij}$: length of arc $(i,j)$;\n",
    "- $t_{ij}$: travelling time of arc $(i,j)$.\n",
    "\n",
    "Auxiliary\n",
    "- $M$: a very large value."
   ]
  },
  {
   "cell_type": "markdown",
   "metadata": {
    "collapsed": false,
    "pycharm": {
     "name": "#%% md\n"
    }
   },
   "source": [
    "### Objective Function\n",
    "\n",
    "\n",
    "\\begin{equation}\n",
    "    \\mathrm{min}\\,Z  = \\sum_{a \\in A, s \\in S, f \\in F} c * x^s_{af} * (d_{a,s} + d_{s,f} + d_{f,a}) + \\sum_{k \\in F}I_k y_k\n",
    "\\end{equation}"
   ]
  },
  {
   "cell_type": "markdown",
   "source": [
    "### Constraints\n",
    "\n",
    "\\begin{align*}\n",
    "    &\\sum_{s \\in S_w} \\sum_{f \\in Fw_s} x^s_{af} <= OpeW_{a} & \\forall \\; a \\in A ,\\forall \\; w \\in W  \\;                 \\,\\,\\,\\ \\text{(1)}&\\\\\n",
    "    &\\sum_{s \\in S_{wv}} \\sum_{f \\in Fw_s} x^s_{af} <= VW_{va} & \\forall \\; v \\in V_{type} , \\forall \\; a \\in A ,\\forall \\; w \\in W  \\;                 \\,\\,\\,\\ \\text{(1bis)}&\\\\\n",
    "    &\\sum_{a \\in A} \\sum_{f \\in S_f} x^s_{af} =1 & \\forall \\; j \\in S  \\,\\,\\,\\ \\text{(2)}&\\\\\n",
    "    &\\sum_{a \\in A} \\sum_{s \\in Sw_f} x^s_{af} * q_s <= K_f * y_f & \\forall \\; f \\in F            \\,\\,\\,\\ \\text{(3)}&\\\\\n",
    "\n",
    "\n",
    "    &\\ x^v_{o^v s} = \\sum_{f \\in F(s)} x^v_{sf} & \\forall \\; s \\in S , \\; v \\in V              \\,\\,\\,\\ \\text{(4)} &\\\\\n",
    "\n",
    "  \n",
    "  \n",
    "    %&\\ \\sum_{s \\in S}  x^v_{sf} =   x^v_{f o^v} & \\forall \\; f \\in F ,\\forall \\; v \\in V  \\;     \\,\\,\\,\\ \\text{(5)} &\\\\\n",
    "\n",
    "\n",
    "\\end{align*}"
   ],
   "metadata": {
    "collapsed": false,
    "pycharm": {
     "name": "#%% md\n"
    }
   }
  },
  {
   "cell_type": "code",
   "execution_count": null,
   "outputs": [],
   "source": [],
   "metadata": {
    "collapsed": false,
    "pycharm": {
     "name": "#%%\n"
    }
   }
  }
 ],
 "metadata": {
  "kernelspec": {
   "display_name": "Python 3.8.10 ('gurobiEnv')",
   "language": "python",
   "name": "python3"
  },
  "language_info": {
   "codemirror_mode": {
    "name": "ipython",
    "version": 3
   },
   "file_extension": ".py",
   "mimetype": "text/x-python",
   "name": "python",
   "nbconvert_exporter": "python",
   "pygments_lexer": "ipython3",
   "version": "3.8.10"
  },
  "toc": {
   "base_numbering": 1,
   "nav_menu": {},
   "number_sections": true,
   "sideBar": true,
   "skip_h1_title": true,
   "title_cell": "Table of Contents",
   "title_sidebar": "Contents",
   "toc_cell": false,
   "toc_position": {
    "height": "calc(100% - 180px)",
    "left": "10px",
    "top": "150px",
    "width": "196.991px"
   },
   "toc_section_display": true,
   "toc_window_display": true
  },
  "varInspector": {
   "cols": {
    "lenName": 16,
    "lenType": 16,
    "lenVar": 40
   },
   "kernels_config": {
    "python": {
     "delete_cmd_postfix": "",
     "delete_cmd_prefix": "del ",
     "library": "var_list.py",
     "varRefreshCmd": "print(var_dic_list())"
    },
    "r": {
     "delete_cmd_postfix": ") ",
     "delete_cmd_prefix": "rm(",
     "library": "var_list.r",
     "varRefreshCmd": "cat(var_dic_list()) "
    }
   },
   "position": {
    "height": "192.4px",
    "left": "1166px",
    "right": "20px",
    "top": "120px",
    "width": "350px"
   },
   "types_to_exclude": [
    "module",
    "function",
    "builtin_function_or_method",
    "instance",
    "_Feature"
   ],
   "window_display": false
  },
  "vscode": {
   "interpreter": {
    "hash": "4953b0b1b806a8c72f3b07adb988e5f293e6db9dcb153474fbe169085c219fc0"
   }
  }
 },
 "nbformat": 4,
 "nbformat_minor": 4
}